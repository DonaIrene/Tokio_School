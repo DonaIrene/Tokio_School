{
 "cells": [
  {
   "cell_type": "markdown",
   "metadata": {},
   "source": [
    "# Exercícios Módulo 5. Bases de dados com SQLite (Soluções)\n",
    "\n",
    "Considerações a ter em conta:\n",
    "\n",
    "* Guardar este documento com o seguinte formato para entrega: M5_04_nome_apelido1_apelido2\n",
    "* Fazer os exercícios com as ferramentas vistas nas sessões. \n",
    "* Comentar o código\n",
    "* Utilizar nomes de variáveis apropriados, se vai guardar uma nota, chamar a essa variável nota, não n ou x"
   ]
  },
  {
   "cell_type": "markdown",
   "metadata": {},
   "source": [
    "**1) Praticar um pouco com SQLite:**\n",
    "\n",
    "* Criar uma base de dados que se chame biblioteca\n",
    "* Criar as seguintes tabelas (deverá colocar os tipos dos atributos com lógica, investigar quais há em SQLite para o poder fazer): \n",
    " * autor(bi, nome, apelidos, estarVivo)\n",
    "     * em bi pode colocar um número aleatório\n",
    " * livro(isbn, título, editorial, ano_escrito)  \n",
    "     * isnb = International Standard Book Number - Pode colocar um número aleatório\n",
    " * utilizador(bi, nome, apelidos, numEmpréstimos)\n",
    "     * em bi pode colocar um número aleatório\n",
    "* Inserir pelo menos 3 registos em cada uma das tabelas \n",
    " * Em autor, alguns vivos e outros mortos\n",
    " * Em livro, alguns com ano de escritura anterior a 1900 e outros depois \n",
    " * Em utilizador, alguns com mais de 10 empréstimos e outros com menos\n",
    "* Comprovar que tudo está correto com **DB Browser (SQLite)** \n",
    "* Fazer as seguintes consultas:\n",
    " * Listar a todos os autores \n",
    " * Listar todos os livros \n",
    " * Listar todos os utilizadores\n",
    " * Listar todos os autores que estejam vivos (CLAUSULA WHERE)\n",
    " * Listar todos os livros que tenham sido escritos posteriormente a 1900\n",
    " * Listar todos os utilizadores que se tenham levado mais de 10 livros e filtrar pelo nome\n",
    "\n"
   ]
  },
  {
   "cell_type": "code",
   "execution_count": 1,
   "metadata": {},
   "outputs": [],
   "source": [
    "#  Completar o exercício aqui\n"
   ]
  }
 ],
 "metadata": {
  "anaconda-cloud": {},
  "kernelspec": {
   "display_name": "Python 3",
   "language": "python",
   "name": "python3"
  },
  "language_info": {
   "codemirror_mode": {
    "name": "ipython",
    "version": 3
   },
   "file_extension": ".py",
   "mimetype": "text/x-python",
   "name": "python",
   "nbconvert_exporter": "python",
   "pygments_lexer": "ipython3",
   "version": "3.8.8"
  }
 },
 "nbformat": 4,
 "nbformat_minor": 1
}
