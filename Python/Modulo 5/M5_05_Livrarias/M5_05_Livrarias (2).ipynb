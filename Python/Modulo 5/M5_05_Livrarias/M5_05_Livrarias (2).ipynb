{
 "cells": [
  {
   "cell_type": "markdown",
   "metadata": {},
   "source": [
    "# Exercícios Módulo 5. Livrarias especializadas em dados (Soluções)\n",
    "\n",
    "Considerações a ter em conta:\n",
    "\n",
    "* Guardar este documento com o seguinte formato para entrega: __M5_05_nome_apelido1_apelido2__\n",
    "* Fazer os exercícios com as ferramentas vistas nas sessões. \n",
    "* Comentar o código\n",
    "* Utilizar nomes de variáveis apropriados, se vai guardar uma nota, chamar a essa variável nota, não n ou x"
   ]
  },
  {
   "cell_type": "markdown",
   "metadata": {},
   "source": [
    "**1) Trabalhar com NumPy**\n",
    "\n",
    "* Importar numpy e usar um alias para poder utilizar os seus recursos \n",
    "* Criar um array de elementos (de 10 a 100)\n",
    "* Inverter o array\n",
    "* Criar um array 3x3 com valores de 0 a 8 \n",
    "* Criar um array identidade de 6x6\n",
    "* Criar um array com valores aleatórios com o formato 3x3x3\n",
    "* Criar dois arrays, com valores aleatórios, A e B, e verificar se são iguais (há várias opções, investigar)"
   ]
  },
  {
   "cell_type": "code",
   "execution_count": null,
   "metadata": {},
   "outputs": [],
   "source": [
    "# Completar o exercício aqui"
   ]
  },
  {
   "cell_type": "markdown",
   "metadata": {},
   "source": [
    "**2) Seguir com NumPy**\n",
    "\n",
    "* Criar um array de 100 elementos aleatórios compreendidos entre 1 e 1000 (podem ser números inteiros). \n",
    "* Este array irá chamar-se dólares\n",
    "* Criar outro array chamado euros\n",
    "* Fazer a conversão dos preços em dólares do primeiro array ao segundo array em euros. Pode-se utilizar a seguinte conversão: \n",
    "  - 1 EUR = 1,14362 USD\n",
    "  - 1 USD = 0,874413 EUR\n",
    "* Mostrar o resultado do array de euros, mas arredondado a 2 décimas"
   ]
  },
  {
   "cell_type": "code",
   "execution_count": null,
   "metadata": {},
   "outputs": [],
   "source": [
    "# Completar o exercício aqui"
   ]
  },
  {
   "cell_type": "markdown",
   "metadata": {},
   "source": [
    "**3) Trabalhar com pandas**\n",
    "\n",
    "* Importar pandas e usar um alias para poder utilizar os seus recursos\n",
    "* Carregar como dataframe de pandas o csv 05_05_imdb_titulos.csv e mostrar os seus 5 primeiros registos \n",
    "* Carregar como dataframe de pandas o csv 05_05_imdb_elenco.csv e mostrar os seus 5 primeiros registos \n",
    "* Mostrar o número de registos da dataframe de títulos\n",
    "* Mostrar o número de registos do dataframe de elenco \n",
    "* Mostrar as 5 filmes mais antigas da listagem de títulos\n",
    "* Mostrar as filmes que no título têm a palavra “Dracula”. Também mostrar o número total de filmes que coincidam com este requisito\n",
    "* Mostrar os 10 títulos mais comuns (que mais se repetem)\n",
    "* Mostrar qual foi a primeira película feita intitulada “Romeo and Juliet”\n",
    "* Listar todas as filmes que contenham a palavra “Exorcist” ordenadas da mais velha à mais recente \n",
    "* Mostrar quantas filmes foram feitas no ano 1950\n",
    "* Mostrar quantas filmes foram feitas de 1950 a 1959\n",
    "* Mostrar todos os papéis que teve na película “The Godfather”. Também mostrar o número total de coincidências \n",
    "* Mostrar o elenco completo ordenado pela classificação “n” da película “Dracula” de 1958\n",
    "* Mostrar quantos papéis de “Bruce Wayne” têm sido feitos na história das filmes \n",
    "* Mostrar quantos papéis fez o “Robert De Niro” na sua carreira\n",
    "* Listagem de papéis como protagonista (n=1) que teve o ator “Charlton Heston” na década 60, ordenado por ano de forma descendente\n",
    "* Mostrar quantos papéis para atores houve na década 50 \n",
    "* Mostrar quantos papéis para atrizes houve na década 50"
   ]
  },
  {
   "cell_type": "code",
   "execution_count": null,
   "metadata": {},
   "outputs": [],
   "source": [
    "# Completar o exercício aqui"
   ]
  }
 ],
 "metadata": {
  "anaconda-cloud": {},
  "kernelspec": {
   "display_name": "Python 3",
   "language": "python",
   "name": "python3"
  },
  "language_info": {
   "codemirror_mode": {
    "name": "ipython",
    "version": 3
   },
   "file_extension": ".py",
   "mimetype": "text/x-python",
   "name": "python",
   "nbconvert_exporter": "python",
   "pygments_lexer": "ipython3",
   "version": "3.8.8"
  }
 },
 "nbformat": 4,
 "nbformat_minor": 1
}
