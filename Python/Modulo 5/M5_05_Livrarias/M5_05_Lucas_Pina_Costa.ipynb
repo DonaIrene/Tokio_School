{
 "cells": [
  {
   "cell_type": "markdown",
   "metadata": {},
   "source": [
    "# Exercícios Módulo 5. Livrarias especializadas em dados (Soluções)\n",
    "\n",
    "Considerações a ter em conta:\n",
    "\n",
    "* Guardar este documento com o seguinte formato para entrega: __M5_05_nome_apelido1_apelido2__\n",
    "* Fazer os exercícios com as ferramentas vistas nas sessões. \n",
    "* Comentar o código\n",
    "* Utilizar nomes de variáveis apropriados, se vai guardar uma nota, chamar a essa variável nota, não n ou x"
   ]
  },
  {
   "cell_type": "markdown",
   "metadata": {},
   "source": [
    "**1) Trabalhar com NumPy**\n",
    "\n",
    "* Importar numpy e usar um alias para poder utilizar os seus recursos \n",
    "* Criar um array de elementos (de 10 a 100)\n",
    "* Inverter o array\n",
    "* Criar um array 3x3 com valores de 0 a 8 \n",
    "* Criar um array identidade de 6x6\n",
    "* Criar um array com valores aleatórios com o formato 3x3x3\n",
    "* Criar dois arrays, com valores aleatórios, A e B, e verificar se são iguais (há várias opções, investigar)"
   ]
  },
  {
   "cell_type": "code",
   "execution_count": 60,
   "metadata": {},
   "outputs": [
    {
     "name": "stdout",
     "output_type": "stream",
     "text": [
      "elementos (de 10 a 100) invertido:  [100  99  98  97  96  95  94  93  92  91  90  89  88  87  86  85  84  83\n",
      "  82  81  80  79  78  77  76  75  74  73  72  71  70  69  68  67  66  65\n",
      "  64  63  62  61  60  59  58  57  56  55  54  53  52  51  50  49  48  47\n",
      "  46  45  44  43  42  41  40  39  38  37  36  35  34  33  32  31  30  29\n",
      "  28  27  26  25  24  23  22  21  20  19  18  17  16  15  14  13  12  11\n",
      "  10] \n",
      "\n",
      "identidade de 6x6:\n",
      " [[6 6 2 5 5 8]\n",
      " [9 5 2 6 3 1]] \n",
      "\n",
      "array 3x3 com valores de 0 a 8:\n",
      " [[4 3 1]\n",
      " [6 1 1]] \n",
      "\n",
      "array com valores aleatórios com o formato 3x3x3:\n",
      " [[2 3 9]\n",
      " [9 7 9]\n",
      " [9 4 3]] \n",
      "\n",
      "Os Arrays A e B sao diferentes\n",
      "Array A [8] || Array B [6]\n"
     ]
    }
   ],
   "source": [
    "# Completar o exercício aqui\n",
    "import numpy as np\n",
    "from numpy import random\n",
    "elementos_10_100 = np.arange(10,101)\n",
    "elementos_10_100_reverse = elementos_10_100[::-1]\n",
    "print(\"elementos (de 10 a 100) invertido: \",elementos_10_100_reverse,\"\\n\")\n",
    "\n",
    "elementos_0_8 = np.array([(4,3,1),(6,1,1)])\n",
    "identidade = np.array([(6,6,2,5,5,8),(9,5,2,6,3,1)])\n",
    "random_geretor = random.default_rng()\n",
    "array_aleatorio = random_geretor.integers(low=1,high=10,size=(3,3))\n",
    "print(\"identidade de 6x6:\\n\",identidade,\"\\n\")\n",
    "print(\"array 3x3 com valores de 0 a 8:\\n\",elementos_0_8,\"\\n\")\n",
    "print(\"array com valores aleatórios com o formato 3x3x3:\\n\",array_aleatorio,\"\\n\")\n",
    "\n",
    "array_A = random_geretor.integers(low=1,high=10,size=1)\n",
    "array_B = random_geretor.integers(low=1,high=10,size=1)\n",
    "if array_A == array_B:\n",
    "    print(\"O Array A e igual ao Array B\")\n",
    "else: print(\"Os Arrays A e B sao diferentes\")\n",
    "print(\"Array A\",array_A,\"|| Array B\",array_B)"
   ]
  },
  {
   "cell_type": "markdown",
   "metadata": {},
   "source": [
    "**2) Seguir com NumPy**\n",
    "\n",
    "* Criar um array de 100 elementos aleatórios compreendidos entre 1 e 1000 (podem ser números inteiros). \n",
    "* Este array irá chamar-se dólares\n",
    "* Criar outro array chamado euros\n",
    "* Fazer a conversão dos preços em dólares do primeiro array ao segundo array em euros. Pode-se utilizar a seguinte conversão: \n",
    "  - 1 EUR = 1,14362 USD\n",
    "  - 1 USD = 0,874413 EUR\n",
    "* Mostrar o resultado do array de euros, mas arredondado a 2 décimas"
   ]
  },
  {
   "cell_type": "code",
   "execution_count": 4,
   "metadata": {},
   "outputs": [
    {
     "name": "stdout",
     "output_type": "stream",
     "text": [
      "Euros a converter:\n",
      "[ 15 195 518 414 819 894 817 510 823 380 377 248 507 523 109 973 985 473\n",
      " 129 454 174 336 304 476  81 799 717 232 214 789  85 456 426 947 125 538\n",
      " 405 679 880 106 768 473 742 125 742 614 539 237 876 792 419 512 140 961\n",
      "  95 654 724 508 311 526 461 388 595 178 959 699 137 323 236 980 113 417\n",
      " 589 326 885  66  93 876 876 192 544 243 103 277 774 782 911 119  82 196\n",
      " 708 296  71 777 775 237 757 865 614 587]\n",
      "\n",
      "Euros convertidos:\n",
      " [  17.15  223.01  592.4   473.46  936.62 1022.4   934.34  583.25  941.2\n",
      "  434.58  431.14  283.62  579.82  598.11  124.65 1112.74 1126.47  540.93\n",
      "  147.53  519.2   198.99  384.26  347.66  544.36   92.63  913.75  819.98\n",
      "  265.32  244.73  902.32   97.21  521.49  487.18 1083.01  142.95  615.27\n",
      "  463.17  776.52 1006.39  121.22  878.3   540.93  848.57  142.95  848.57\n",
      "  702.18  616.41  271.04 1001.81  905.75  479.18  585.53  160.11 1099.02\n",
      "  108.64  747.93  827.98  580.96  355.67  601.54  527.21  443.72  680.45\n",
      "  203.56 1096.73  799.39  156.68  369.39  269.89 1120.75  129.23  476.89\n",
      "  673.59  372.82 1012.1    75.48  106.36 1001.81 1001.81  219.58  622.13\n",
      "  277.9   117.79  316.78  885.16  894.31 1041.84  136.09   93.78  224.15\n",
      "  809.68  338.51   81.2   888.59  886.31  271.04  865.72  989.23  702.18\n",
      "  671.3 ]\n"
     ]
    }
   ],
   "source": [
    "# Completar o exercício aqui\n",
    "import numpy as np\n",
    "from numpy import random\n",
    "gerador_aleatorio = random.default_rng()\n",
    "dolares = gerador_aleatorio.integers(low=1,high=1000,size=100)\n",
    "euros = gerador_aleatorio.integers(low=1,high=1000,size=100)\n",
    "list_dolares=[]\n",
    "list_euros=[]\n",
    "print(f\"Euros a converter:\\n{euros}\")\n",
    "for dolar in dolares:\n",
    "    dolar = \"{:.2f}\".format(dolar*0.874413)\n",
    "    list_dolares.append(float(dolar))\n",
    "    dolares = np.array(list_dolares)\n",
    "for euro in euros:\n",
    "    euro = \"{:.2f}\".format(euro*1.14362)\n",
    "    list_euros.append(float(euro))\n",
    "    euros = np.array(list_euros)\n",
    "\n",
    "\n",
    "print(\"\\nEuros convertidos:\\n\",euros)"
   ]
  },
  {
   "cell_type": "markdown",
   "metadata": {},
   "source": [
    "**3) Trabalhar com pandas**\n",
    "\n",
    "* Importar pandas e usar um alias para poder utilizar os seus recursos\n",
    "* Carregar como dataframe de pandas o csv 05_05_imdb_titulos.csv e mostrar os seus 5 primeiros registos \n",
    "* Carregar como dataframe de pandas o csv 05_05_imdb_elenco.csv e mostrar os seus 5 primeiros registos \n",
    "* Mostrar o número de registos da dataframe de títulos\n",
    "* Mostrar o número de registos do dataframe de elenco \n",
    "* Mostrar as 5 filmes mais antigas da listagem de títulos\n",
    "* Mostrar as filmes que no título têm a palavra “Dracula”. Também mostrar o número total de filmes que coincidam com este requisito\n",
    "* Mostrar os 10 títulos mais comuns (que mais se repetem)\n",
    "* Mostrar qual foi a primeira película feita intitulada “Romeo and Juliet”\n",
    "* Listar todas as filmes que contenham a palavra “Exorcist” ordenadas da mais velha à mais recente \n",
    "* Mostrar quantas filmes foram feitas no ano 1950\n",
    "* Mostrar quantas filmes foram feitas de 1950 a 1959\n",
    "* Mostrar todos os papéis que teve na película “The Godfather”. Também mostrar o número total de coincidências \n",
    "* Mostrar o elenco completo ordenado pela classificação “n” da película “Dracula” de 1958\n",
    "* Mostrar quantos papéis de “Bruce Wayne” têm sido feitos na história das filmes \n",
    "* Mostrar quantos papéis fez o “Robert De Niro” na sua carreira\n",
    "* Listagem de papéis como protagonista (n=1) que teve o ator “Charlton Heston” na década 60, ordenado por ano de forma descendente\n",
    "* Mostrar quantos papéis para atores houve na década 50 \n",
    "* Mostrar quantos papéis para atrizes houve na década 50"
   ]
  },
  {
   "cell_type": "code",
   "execution_count": 42,
   "metadata": {},
   "outputs": [
    {
     "name": "stdout",
     "output_type": "stream",
     "text": [
      "Titulo: 0                                   Mahler\n",
      "1             Ogon, voda i... mednye truby\n",
      "2    Ana Nojoom bent alasherah wamotalagah\n",
      "3                        Malu de Bicicleta\n",
      "4               Nazareno Apostol: Boy Ahas\n",
      "Name: title, dtype: object   ||   Ano:1989 \n",
      "Titulo: 0    1974\n",
      "1    1968\n",
      "2    2014\n",
      "3    2010\n",
      "4    1989\n",
      "Name: year, dtype: int64   ||   Ano:1989 \n"
     ]
    }
   ],
   "source": [
    "# Completar o exercício aqui\n",
    "import pandas\n",
    "titulos_imdb = pandas.read_csv('05_05_imdb_titulos.csv')\n",
    "elenco_imdb = pandas.read_csv('05_05_imdb_elenco.csv')\n",
    "titulos = titulos_imdb['title'][:5],titulos_imdb['year'][:5]\n",
    "for titulo in titulos:\n",
    "    print(f\"Titulo: {titulo}   ||   Ano:{ano} \")\n",
    "    \n",
    "\n"
   ]
  },
  {
   "cell_type": "code",
   "execution_count": null,
   "metadata": {},
   "outputs": [],
   "source": []
  }
 ],
 "metadata": {
  "anaconda-cloud": {},
  "kernelspec": {
   "display_name": "Python 3",
   "language": "python",
   "name": "python3"
  },
  "language_info": {
   "codemirror_mode": {
    "name": "ipython",
    "version": 3
   },
   "file_extension": ".py",
   "mimetype": "text/x-python",
   "name": "python",
   "nbconvert_exporter": "python",
   "pygments_lexer": "ipython3",
   "version": "3.10.2"
  }
 },
 "nbformat": 4,
 "nbformat_minor": 1
}
