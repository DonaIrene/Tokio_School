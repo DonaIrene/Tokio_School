{
 "cells": [
  {
   "cell_type": "markdown",
   "metadata": {},
   "source": [
    "# Exercícios Módulo 5. Livrarias especializadas em dados (Soluções)\n",
    "\n",
    "Considerações a ter em conta:\n",
    "\n",
    "* Guardar este documento com o seguinte formato para entrega: __M5_05_nome_apelido1_apelido2__\n",
    "* Fazer os exercícios com as ferramentas vistas nas sessões. \n",
    "* Comentar o código\n",
    "* Utilizar nomes de variáveis apropriados, se vai guardar uma nota, chamar a essa variável nota, não n ou x"
   ]
  },
  {
   "cell_type": "markdown",
   "metadata": {},
   "source": [
    "**1) Trabalhar com NumPy**\n",
    "\n",
    "* Importar numpy e usar um alias para poder utilizar os seus recursos \n",
    "* Criar um array de elementos (de 10 a 100)\n",
    "* Inverter o array\n",
    "* Criar um array 3x3 com valores de 0 a 8 \n",
    "* Criar um array identidade de 6x6\n",
    "* Criar um array com valores aleatórios com o formato 3x3x3\n",
    "* Criar dois arrays, com valores aleatórios, A e B, e verificar se são iguais (há várias opções, investigar)"
   ]
  },
  {
   "cell_type": "code",
   "execution_count": 60,
   "metadata": {},
   "outputs": [
    {
     "name": "stdout",
     "output_type": "stream",
     "text": [
      "elementos (de 10 a 100) invertido:  [100  99  98  97  96  95  94  93  92  91  90  89  88  87  86  85  84  83\n",
      "  82  81  80  79  78  77  76  75  74  73  72  71  70  69  68  67  66  65\n",
      "  64  63  62  61  60  59  58  57  56  55  54  53  52  51  50  49  48  47\n",
      "  46  45  44  43  42  41  40  39  38  37  36  35  34  33  32  31  30  29\n",
      "  28  27  26  25  24  23  22  21  20  19  18  17  16  15  14  13  12  11\n",
      "  10] \n",
      "\n",
      "identidade de 6x6:\n",
      " [[6 6 2 5 5 8]\n",
      " [9 5 2 6 3 1]] \n",
      "\n",
      "array 3x3 com valores de 0 a 8:\n",
      " [[4 3 1]\n",
      " [6 1 1]] \n",
      "\n",
      "array com valores aleatórios com o formato 3x3x3:\n",
      " [[2 3 9]\n",
      " [9 7 9]\n",
      " [9 4 3]] \n",
      "\n",
      "Os Arrays A e B sao diferentes\n",
      "Array A [8] || Array B [6]\n"
     ]
    }
   ],
   "source": [
    "# Completar o exercício aqui\n",
    "import numpy as np\n",
    "from numpy import random\n",
    "elementos_10_100 = np.arange(10,101)\n",
    "elementos_10_100_reverse = elementos_10_100[::-1]\n",
    "print(\"elementos (de 10 a 100) invertido: \",elementos_10_100_reverse,\"\\n\")\n",
    "\n",
    "elementos_0_8 = np.array([(4,3,1),(6,1,1)])\n",
    "identidade = np.array([(6,6,2,5,5,8),(9,5,2,6,3,1)])\n",
    "random_geretor = random.default_rng()\n",
    "array_aleatorio = random_geretor.integers(low=1,high=10,size=(3,3))\n",
    "print(\"identidade de 6x6:\\n\",identidade,\"\\n\")\n",
    "print(\"array 3x3 com valores de 0 a 8:\\n\",elementos_0_8,\"\\n\")\n",
    "print(\"array com valores aleatórios com o formato 3x3x3:\\n\",array_aleatorio,\"\\n\")\n",
    "\n",
    "array_A = random_geretor.integers(low=1,high=10,size=1)\n",
    "array_B = random_geretor.integers(low=1,high=10,size=1)\n",
    "if array_A == array_B:\n",
    "    print(\"O Array A e igual ao Array B\")\n",
    "else: print(\"Os Arrays A e B sao diferentes\")\n",
    "print(\"Array A\",array_A,\"|| Array B\",array_B)"
   ]
  },
  {
   "cell_type": "markdown",
   "metadata": {},
   "source": [
    "**2) Seguir com NumPy**\n",
    "\n",
    "* Criar um array de 100 elementos aleatórios compreendidos entre 1 e 1000 (podem ser números inteiros). \n",
    "* Este array irá chamar-se dólares\n",
    "* Criar outro array chamado euros\n",
    "* Fazer a conversão dos preços em dólares do primeiro array ao segundo array em euros. Pode-se utilizar a seguinte conversão: \n",
    "  - 1 EUR = 1,14362 USD\n",
    "  - 1 USD = 0,874413 EUR\n",
    "* Mostrar o resultado do array de euros, mas arredondado a 2 décimas"
   ]
  },
  {
   "cell_type": "code",
   "execution_count": 15,
   "metadata": {},
   "outputs": [
    {
     "name": "stdout",
     "output_type": "stream",
     "text": [
      "Euros a converter:\n",
      "[875 100 326  28 278 954 633 775  85  55 653 968 687 857 368 347 725 692\n",
      " 474 711 709 140 235 685 473 292 392 685  74 736 403 195 684 910 420 397\n",
      " 717 326 398 360 169 917 823 179  65 798 957 721 428 656 767 501 379 308\n",
      " 254 739 334 116 818 995 878 863 637 157 619 472  47  94 895 532 781 977\n",
      " 165 831 181  44 387   6 637 720 527 477 306 334 943 730 732 579 227 300\n",
      " 216  48 612 936 293 551 252 920 483 717]\n",
      "\n",
      "Euros convertidos:\n",
      " ['1000.67' '114.36' '372.82' '32.02' '317.93' '1091.01' '723.91' '886.31'\n",
      " '97.21' '62.90' '746.78' '1107.02' '785.67' '980.08' '420.85' '396.84'\n",
      " '829.12' '791.39' '542.08' '813.11' '810.83' '160.11' '268.75' '783.38'\n",
      " '540.93' '333.94' '448.30' '783.38' '84.63' '841.70' '460.88' '223.01'\n",
      " '782.24' '1040.69' '480.32' '454.02' '819.98' '372.82' '455.16' '411.70'\n",
      " '193.27' '1048.70' '941.20' '204.71' '74.34' '912.61' '1094.44' '824.55'\n",
      " '489.47' '750.21' '877.16' '572.95' '433.43' '352.23' '290.48' '845.14'\n",
      " '381.97' '132.66' '935.48' '1137.90' '1004.10' '986.94' '728.49' '179.55'\n",
      " '707.90' '539.79' '53.75' '107.50' '1023.54' '608.41' '893.17' '1117.32'\n",
      " '188.70' '950.35' '207.00' '50.32' '442.58' '6.86' '728.49' '823.41'\n",
      " '602.69' '545.51' '349.95' '381.97' '1078.43' '834.84' '837.13' '662.16'\n",
      " '259.60' '343.09' '247.02' '54.89' '699.90' '1070.43' '335.08' '630.13'\n",
      " '288.19' '1052.13' '552.37' '819.98']\n"
     ]
    }
   ],
   "source": [
    "# Completar o exercício aqui\n",
    "import numpy as np\n",
    "from numpy import random\n",
    "gerador_aleatorio = random.default_rng()\n",
    "dolares = gerador_aleatorio.integers(low=1,high=1000,size=100)\n",
    "euros = gerador_aleatorio.integers(low=1,high=1000,size=100)\n",
    "list_dolares=[]\n",
    "list_euros=[]\n",
    "print(f\"Euros a converter:\\n{euros}\")\n",
    "for dolar in dolares:\n",
    "    dolar = \"{:.2f}\".format(dolar*0.874413)\n",
    "    list_dolares.append(dolar)\n",
    "    dolares = np.array(list_dolares)\n",
    "for euro in euros:\n",
    "    euro = \"{:.2f}\".format(euro*1.14362)\n",
    "    list_euros.append(euro)\n",
    "    euros = np.array(list_euros)\n",
    "\n",
    "\n",
    "print(\"\\nEuros convertidos:\\n\",euros)"
   ]
  },
  {
   "cell_type": "markdown",
   "metadata": {},
   "source": [
    "**3) Trabalhar com pandas**\n",
    "\n",
    "* Importar pandas e usar um alias para poder utilizar os seus recursos\n",
    "* Carregar como dataframe de pandas o csv 05_05_imdb_titulos.csv e mostrar os seus 5 primeiros registos \n",
    "* Carregar como dataframe de pandas o csv 05_05_imdb_elenco.csv e mostrar os seus 5 primeiros registos \n",
    "* Mostrar o número de registos da dataframe de títulos\n",
    "* Mostrar o número de registos do dataframe de elenco \n",
    "* Mostrar as 5 filmes mais antigas da listagem de títulos\n",
    "* Mostrar as filmes que no título têm a palavra “Dracula”. Também mostrar o número total de filmes que coincidam com este requisito\n",
    "* Mostrar os 10 títulos mais comuns (que mais se repetem)\n",
    "* Mostrar qual foi a primeira película feita intitulada “Romeo and Juliet”\n",
    "* Listar todas as filmes que contenham a palavra “Exorcist” ordenadas da mais velha à mais recente \n",
    "* Mostrar quantas filmes foram feitas no ano 1950\n",
    "* Mostrar quantas filmes foram feitas de 1950 a 1959\n",
    "* Mostrar todos os papéis que teve na película “The Godfather”. Também mostrar o número total de coincidências \n",
    "* Mostrar o elenco completo ordenado pela classificação “n” da película “Dracula” de 1958\n",
    "* Mostrar quantos papéis de “Bruce Wayne” têm sido feitos na história das filmes \n",
    "* Mostrar quantos papéis fez o “Robert De Niro” na sua carreira\n",
    "* Listagem de papéis como protagonista (n=1) que teve o ator “Charlton Heston” na década 60, ordenado por ano de forma descendente\n",
    "* Mostrar quantos papéis para atores houve na década 50 \n",
    "* Mostrar quantos papéis para atrizes houve na década 50"
   ]
  },
  {
   "cell_type": "code",
   "execution_count": 16,
   "metadata": {},
   "outputs": [
    {
     "data": {
      "text/plain": [
       "'1.4.2'"
      ]
     },
     "execution_count": 16,
     "metadata": {},
     "output_type": "execute_result"
    }
   ],
   "source": [
    "# Completar o exercício aqui\n",
    "import pandas\n",
    "pandas.read_csv()"
   ]
  },
  {
   "cell_type": "code",
   "execution_count": null,
   "metadata": {},
   "outputs": [],
   "source": []
  }
 ],
 "metadata": {
  "anaconda-cloud": {},
  "kernelspec": {
   "display_name": "Python 3",
   "language": "python",
   "name": "python3"
  },
  "language_info": {
   "codemirror_mode": {
    "name": "ipython",
    "version": 3
   },
   "file_extension": ".py",
   "mimetype": "text/x-python",
   "name": "python",
   "nbconvert_exporter": "python",
   "pygments_lexer": "ipython3",
   "version": "3.10.2"
  }
 },
 "nbformat": 4,
 "nbformat_minor": 1
}
