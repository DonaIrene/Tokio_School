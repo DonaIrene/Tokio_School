{
 "cells": [
  {
   "cell_type": "markdown",
   "metadata": {},
   "source": [
    "# Exercícios Módulo 5. Excel e CSV (Enunciado)\n",
    "\n",
    "Considerações a ter em conta: \n",
    "\n",
    "* Guardar este documento com o seguinte formato para entrega: __M5_02_nome_apelido1_apelido2__\n",
    "* Fazer os exercícios com as ferramentas vistas nas sessões. \n",
    "* Comentar o código\n",
    "* Utilizar nomes de variáveis apropriados, se vai guardar uma nota, chamar a essa variável nota, não n ou x\n",
    "\n",
    "__Recomendação__: fazer uma cópia dos ficheiros antes de os modificar para sempre poder recuperar uma versão original dos mesmos"
   ]
  },
  {
   "cell_type": "markdown",
   "metadata": {},
   "source": [
    "## EXCEL"
   ]
  },
  {
   "cell_type": "markdown",
   "metadata": {},
   "source": [
    "**1)  Exercício de manuseio de Excel com base ao ficheiro 02_Excel_data.xlsx:**\n",
    "\n",
    "* Abrir o ficheiro Excel \n",
    "* Listar as folhas que há\n",
    "* Criar uma nova folha chamada **olimpíadas** entre **vendas** e **outros** \n",
    "* Voltar a listar as folhas que há\n",
    "* Guardar e comprovar as alterações no excel"
   ]
  },
  {
   "cell_type": "code",
   "execution_count": 1,
   "metadata": {},
   "outputs": [],
   "source": [
    "# Completar o exercício aqui\n",
    "import openpyxl\n",
    "\n",
    "excel_file = openpyxl.open(\"02_Excel_data.xlsx\")\n",
    "\n",
    "excel_file"
   ]
  },
  {
   "cell_type": "markdown",
   "metadata": {},
   "source": [
    "**2) Continuar com o Excel**\n",
    "* Criar uma lista que contenha os seguintes dados olímpicos (nome do país e medalhas de ouro, prata e bronze):\n",
    "```\n",
    "USA, 46, 12, 5\n",
    "China, 38, 20, 7\n",
    "UK, 29, 7, 7\n",
    "Russia, 22, 10, 9\n",
    "South Korea, 13, 3, 2\n",
    "Germany, 11, 7, 4\n",
    "```\n",
    "* Adicionar essa lista à folha de olimpíadas que criámos no exercício anterior \n",
    "* Listar por filas e colunas o conteúdo\n",
    "* Mover todo o intervalo de dados uma fila para baixo (pesquisar na documentação como mover intervalos)\n",
    "* Adicionar umas cabeceiras na primeira linha (que acaba de ficar livre) que sejam “País”, “Ouros”, “Pratas”, “Bronzes” \n",
    "* Guardar e comprovar as alterações no excel "
   ]
  },
  {
   "cell_type": "code",
   "execution_count": null,
   "metadata": {},
   "outputs": [],
   "source": [
    "# Completar o exercício aqui"
   ]
  },
  {
   "cell_type": "markdown",
   "metadata": {},
   "source": [
    "**3)  Continuar com o Excel, centrando-se na livraria openpyxl.styles (a qual proporciona estilo às nossas folhas de Excel)**\n",
    "* Colocar as cabeceiras que acabámos de adicionar a negrito (bold) \n",
    "* Guardar e comprovar as alterações no excel\n",
    "\n",
    "Pista: embora haja várias formas de o fazer, o mais comum é definir o estilo que deseja (negrito) e logo aplicá-lo a todas as células que queira (iterar pela primeira fila da nossa folha)\n",
    "\n",
    "\n",
    "Doc: https://openpyxl.readthedocs.io/en/stable/styles.html"
   ]
  },
  {
   "cell_type": "code",
   "execution_count": null,
   "metadata": {},
   "outputs": [],
   "source": [
    "# Completar o exercício aqui"
   ]
  },
  {
   "cell_type": "markdown",
   "metadata": {},
   "source": [
    "**4) Continuar com o Excel. Criar uma nova coluna que seja o somatório de todas as medalhas conseguidas por cada país**"
   ]
  },
  {
   "cell_type": "code",
   "execution_count": null,
   "metadata": {},
   "outputs": [],
   "source": [
    "# Completar o exercício aqui"
   ]
  },
  {
   "cell_type": "markdown",
   "metadata": {},
   "source": [
    "**5)  Continuar com o Excel. Criar um gráfico de barras (openpyxl.chart.BarChart()) o mais parecido ao que se mostra na imagem:**\n",
    "\n",
    "<img src=\"./02_Excel_data.png\"  />"
   ]
  },
  {
   "cell_type": "code",
   "execution_count": null,
   "metadata": {},
   "outputs": [],
   "source": [
    "import openpyxl\n",
    "data = openpyxl.chart.Reference(hoja_olimpiadas, min_col=5, min_row=2, max_col=5, max_row=7)\n",
    "categs = openpyxl.chart.Reference(hoja_olimpiadas, min_col=1, min_row=2, max_row=7)\n",
    "\n",
    "# Completar o exercício aqui"
   ]
  },
  {
   "cell_type": "markdown",
   "metadata": {},
   "source": [
    "## CSV"
   ]
  },
  {
   "cell_type": "markdown",
   "metadata": {},
   "source": [
    "**Vamos fazer um exercício prático de *Data Mining*, onde iremos limpar e filtrar informação com um csv que contém dados de veículos**\n",
    "\n",
    "Trabalhar com o ficheiro **02_CSV_data.csv**"
   ]
  },
  {
   "cell_type": "markdown",
   "metadata": {},
   "source": [
    "**6) Observar os dados do csv e fazer as seguintes tarefas:**\n",
    "\n",
    "* Temos 9 colunas, as 8 primeiras contêm dados numéricos com os quais podemos trabalhar, criar uma lista para cada uma destas colunas (mpg, cylinders, etc.). Não é necessário criar lista para *name*\n",
    "* Percorrer os dados do csv adequadamente e armazenar os dados de cada coluna em cada uma das listas que criou anteriormente.\n",
    "* Comprovar que se guardou nas listas a informação correspondente (com prints)"
   ]
  },
  {
   "cell_type": "code",
   "execution_count": null,
   "metadata": {},
   "outputs": [],
   "source": [
    "# Completar o exercício aqui"
   ]
  },
  {
   "cell_type": "markdown",
   "metadata": {},
   "source": [
    "**7) Vamos trabalhar só os números das listas criadas, pelo que nos falta alterar o primeiro elemento de cada lista, o qual contém o nome de cada uma das colunas.**\n",
    "\n",
    "* Eliminar o primeiro elemento de cada uma das listas\n",
    "* Observar que o tipo dos dados das nossas listas (strings), convertê-los para float. Pista: list e map podem ajudar. \n",
    "* Comprovar que se eliminou o primeiro elemento e que os dados são numéricos (com prints)"
   ]
  },
  {
   "cell_type": "code",
   "execution_count": null,
   "metadata": {},
   "outputs": [],
   "source": [
    "# Completar o exercício aqui"
   ]
  },
  {
   "cell_type": "markdown",
   "metadata": {},
   "source": [
    "**8) Para terminar vamos mostrar alguns resultados. Para isso iremos utilizar a livraria *statistics*.**\n",
    "\n",
    "* Mostrar para cada uma das listas, quantas observações tem (quantos dados tem). \n",
    "* Mostrar o mínimo e o máximo de cada lista\n",
    "* Mostrar a média, mediana e desvio padrão de cada lista (utilizando statistics)"
   ]
  },
  {
   "cell_type": "code",
   "execution_count": null,
   "metadata": {},
   "outputs": [],
   "source": [
    "import statistics as stats\n",
    "# Completar o exercício aqui"
   ]
  }
 ],
 "metadata": {
  "anaconda-cloud": {},
  "kernelspec": {
   "display_name": "Python 3",
   "language": "python",
   "name": "python3"
  },
  "language_info": {
   "codemirror_mode": {
    "name": "ipython",
    "version": 3
   },
   "file_extension": ".py",
   "mimetype": "text/x-python",
   "name": "python",
   "nbconvert_exporter": "python",
   "pygments_lexer": "ipython3",
   "version": "3.10.2"
  }
 },
 "nbformat": 4,
 "nbformat_minor": 1
}
