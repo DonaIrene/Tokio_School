{
 "cells": [
  {
   "cell_type": "markdown",
   "metadata": {},
   "source": [
    "# Exercicios Modulo 5. JSON (Soluções)\n",
    "\n",
    "Considerações a ter em conta: \n",
    "\n",
    "* Guardar odocumento de soluções comoseguinte formatopara entrega: __M2_01_nome_apelido1_apelido2__\n",
    "* Realizar os exercicios com as ferramentas utilizadas nas aulas. \n",
    "* Comentar o código\n",
    "* Utilizar nomesde variáveis apropriados. Se vamosguardar umanota, chamamos a essa variável nota, não n oux."
   ]
  },
  {
   "cell_type": "markdown",
   "metadata": {},
   "source": [
    "# JSON (JavaScript Object Notation)"
   ]
  },
  {
   "cell_type": "markdown",
   "metadata": {},
   "source": [
    "1) Tenha em consideração o seguinte JSON String:\n",
    "\n",
    "{\"chefe_projeto\":{\"Nome\":\"Juan\",\"Idade\":28,\"Experiência\": [\"Gestão\",\"Finanças\",\"Basesdedados\"],\"Residência\": \n",
    "\"Madrid\",\"HorasProjeto\":3500},\"funcionários\":[{\"Nome\":\"Elena\",\"Idade\":26,\"Experiência\":\n",
    "[\"JavaScript\",\"Python\"],\"Residência\":\"Madrid\",\"HorasProjeto\":500},{\"Nome\":\"Luis\",\"Idade\":31,\"Experiência\": \n",
    "[\"Django\",\"Flask\",\"Pyramid\"],\"Residência\":\"Barcelona\",\"HorasProjeto\":1100}]}\n",
    "\n",
    "\n",
    "* Se necessário, utilizar um visualizador de JSON para o entender.\n",
    "* O objetivo é criar um dicionário com todos os dados e estruturas internas necessárias para que seja igual ao JSON String.\n",
    "* Criar estruturas mais pequenas até que se chegue a formar o mesmo JSON string que vemos acima.\n",
    "* Armazenar esta estrutura (o dicionário) numa variável.\n",
    "* Comprovar o seu tipo e mostrar por ecrã.\n",
    "* Criar duas variáveis: horas_funcionários e horas_chefe\n",
    "* Extrair as horas do chefe e introduzir na sua variável.\n",
    "* Criar um ciclo que percorra a totalidade de funcionários que tem na estrutura e para cada funcionário somar as suas horas na sua variável correspondente.\n",
    "* Somar todas as horas e imprimir."
   ]
  },
  {
   "cell_type": "code",
   "execution_count": 1,
   "metadata": {},
   "outputs": [
    {
     "name": "stdout",
     "output_type": "stream",
     "text": [
      "\n",
      "Json: <class 'str'> || Variavel Dicionario: <class 'dict'>\n",
      "\n",
      "{\"chefe_projeto\": {\"Nome\": \"Juan\", \"Idade\": 28, \"Experiencia\": [\"Gestao\", \"Financas\", \"Basesdedados\"], \"Residencia\": \"Madrid\", \"HorasdeProjetos\": 3500}, \"funcionarios\": [{\"Nome\": \"Elena\", \"Idade\": 26, \"Experiencia\": [\"JavaScript\", \"Python\"], \"Residencia\": \"Barcelona\", \"HorasProjeto\": 500}, {\"Nome\": \"Luis\", \"Idade\": 31, \"Experiencia\": [\"Django\", \"Flask\", \"Pyramid\"], \"Residencia\": \"Barcelona\", \"HorasProjeto\": 1100}]}\n",
      "\n",
      "Dados Funcionario: {'Nome': 'Elena', 'Idade': 26, 'Experiencia': ['JavaScript', 'Python'], 'Residencia': 'Barcelona', 'HorasProjeto': 500}\n",
      "Horas Do Funcionario:  500\n",
      "\n",
      "Dados Funcionario: {'Nome': 'Luis', 'Idade': 31, 'Experiencia': ['Django', 'Flask', 'Pyramid'], 'Residencia': 'Barcelona', 'HorasProjeto': 1100}\n",
      "Horas Do Funcionario:  1100\n",
      "\n",
      "Hora Total dos Funcionarios: 1600\n",
      "\n",
      "Horas do Chefe: 3500\n"
     ]
    }
   ],
   "source": [
    "# Completa o exercicio aqui\n",
    "import json\n",
    "\n",
    "chefe_projeto = {\"Nome\":\"Juan\",\"Idade\":28,\"Experiencia\":[\"Gestao\",\"Financas\",\"Basesdedados\"],\"Residencia\":\"Madrid\",\"HorasdeProjetos\":3500}\n",
    "funcionarios_0 = {\"Nome\":\"Elena\",\"Idade\":26,\"Experiencia\":[\"JavaScript\",\"Python\"],\"Residencia\":\"Barcelona\",\"HorasProjeto\":500}\n",
    "funcionarios_1 = {\"Nome\":\"Luis\",\"Idade\":31,\"Experiencia\":[\"Django\",\"Flask\",\"Pyramid\"],\"Residencia\":\"Barcelona\",\"HorasProjeto\":1100}\n",
    "\n",
    "dict_Json = {\"chefe_projeto\":chefe_projeto,\"funcionarios\":[funcionarios_0,funcionarios_1]}\n",
    "\n",
    "json_funcionarios = json.dumps(dict_Json)\n",
    "print(f\"\\nJson: {type(json_funcionarios)} || Variavel Dicionario: {type(dict_Json)}\\n\")\n",
    "print(json_funcionarios)\n",
    "\n",
    "horas_chefe = dict_Json[\"chefe_projeto\"][\"HorasdeProjetos\"]\n",
    "horas_funcionarios = 0\n",
    "for funcionario in dict_Json[\"funcionarios\"]:\n",
    "    print(\"\\nDados Funcionario:\",funcionario)\n",
    "    horas_funcionarios += funcionario[\"HorasProjeto\"]\n",
    "    print(\"Horas Do Funcionario: \",funcionario[\"HorasProjeto\"])\n",
    "    \n",
    "print(\"\\nHora Total dos Funcionarios:\", horas_funcionarios)\n",
    "print(\"\\nHoras do Chefe:\",horas_chefe)"
   ]
  },
  {
   "cell_type": "markdown",
   "metadata": {},
   "source": [
    "2) No exercício anterior trabalhou-se com um dicionário que nós mesmos/as criamos. Converter para um formato JSON String, imprimir o seu tipo e os seus dados. Para que serve este formato?"
   ]
  },
  {
   "cell_type": "code",
   "execution_count": 2,
   "metadata": {},
   "outputs": [
    {
     "name": "stdout",
     "output_type": "stream",
     "text": [
      "Tipo: <class 'str'>\n",
      "Dados: {\"chefe_projeto\": {\"Nome\": \"Juan\", \"Idade\": 28, \"Experiencia\": [\"Gestao\", \"Financas\", \"Basesdedados\"], \"Residencia\": \"Madrid\", \"HorasdeProjetos\": 3500}, \"funcionarios\": [{\"Nome\": \"Elena\", \"Idade\": 26, \"Experiencia\": [\"JavaScript\", \"Python\"], \"Residencia\": \"Barcelona\", \"HorasProjeto\": 500}, {\"Nome\": \"Luis\", \"Idade\": 31, \"Experiencia\": [\"Django\", \"Flask\", \"Pyramid\"], \"Residencia\": \"Barcelona\", \"HorasProjeto\": 1100}]}\n",
      "\n",
      "O formato JSON e muito util na transferencia de informacoes entre tecnologias e linguagens,\n",
      "ja que qualquer linguagem de programacao o consegue ler.\n"
     ]
    }
   ],
   "source": [
    "# Completa o exercicio aqui\n",
    "import json\n",
    "\n",
    "chefe_projeto = {\"Nome\":\"Juan\",\"Idade\":28,\"Experiencia\":[\"Gestao\",\"Financas\",\"Basesdedados\"],\"Residencia\":\"Madrid\",\"HorasdeProjetos\":3500}\n",
    "funcionarios_0 = {\"Nome\":\"Elena\",\"Idade\":26,\"Experiencia\":[\"JavaScript\",\"Python\"],\"Residencia\":\"Barcelona\",\"HorasProjeto\":500}\n",
    "funcionarios_1 = {\"Nome\":\"Luis\",\"Idade\":31,\"Experiencia\":[\"Django\",\"Flask\",\"Pyramid\"],\"Residencia\":\"Barcelona\",\"HorasProjeto\":1100}\n",
    "\n",
    "dict_Json = {\"chefe_projeto\":chefe_projeto,\"funcionarios\":[funcionarios_0,funcionarios_1]}\n",
    "\n",
    "json_funcionarios = json.dumps(dict_Json)\n",
    "print(f\"Tipo: {type(json_funcionarios)}\\nDados: {json_funcionarios}\")\n",
    "\n",
    "print(\"\"\"\\nO formato JSON e muito util na transferencia de informacoes entre tecnologias e linguagens,\n",
    "ja que qualquer linguagem de programacao o consegue ler.\"\"\")\n"
   ]
  },
  {
   "cell_type": "markdown",
   "metadata": {},
   "source": [
    "3) Por vezes encontramos JSON que se tem de modificar. Para isso, temos de descodificá-los, fazer as modificações pertinentes e voltar a codificá-los para os deixar como JSON de novo. No seguinte exemplo podemos ver que há alguns erros:\n",
    "\n",
    "* Ao Superman falta-lhe como poder \"Voar\"\n",
    "* No Batman, a idade é 35, não 350\n",
    "* No Batman, retire-lhe o poder de \"Raio laser\"\n",
    "* No Wonder Woman falta-lhe o poder \"Laço da verdade\"\n",
    "\n",
    "Depois de corrigir, transformar estes dados num JSON String"
   ]
  },
  {
   "cell_type": "code",
   "execution_count": 3,
   "metadata": {},
   "outputs": [],
   "source": [
    "# NÃO UTILIZE ESTE BLOCO\n",
    "\n",
    "superherois = {\n",
    "\t\"nomedaEquipa\": \"Super Hero Squad\",\n",
    "\t\"cidade\": \"Metro City\",\n",
    "\t\"formado\": 2016,\n",
    "\t\"baseSecreta\": \"Super Tower\",\n",
    "\t\"activo\": \"Sim\",\n",
    "\t\"membros\": [\n",
    "\t\t{\n",
    "\t\t\t\"nome\": \"SuperMan\",\n",
    "\t\t\t\"idade\": 29,\n",
    "\t\t\t\"identidadeSecreta\": \"Clart Kent\",\n",
    "\t\t\t\"poderes\": [\n",
    "\t\t\t\t\"Super força\",\n",
    "\t\t\t\t\"Super velocidade\",\n",
    "\t\t\t\t\"Raio laser\"\n",
    "\t\t\t]\n",
    "\t\t},\n",
    "\t\t{\n",
    "\t\t\t\"nome\": \"Batman\",\n",
    "\t\t\t\"idade\": 350,\n",
    "\t\t\t\"identidadeSecreta\": \"Bruce Wayne\",\n",
    "\t\t\t\"poderes\": [\n",
    "\t\t\t\t\"Detective\",\n",
    "\t\t\t\t\"Dinheiro\",\n",
    "\t\t\t\t\"Raio laser\"\n",
    "\t\t\t]\n",
    "\t\t},\n",
    "\t\t{\n",
    "\t\t\t\"nome\": \"Wonder Woman\",\n",
    "\t\t\t\"idade\": 900,\n",
    "\t\t\t\"identidadeSecreta\": \"Diana de Temiscira\",\n",
    "\t\t\t\"poderes\": [\n",
    "\t\t\t\t\"Super força\",\n",
    "\t\t\t\t\"Super velocidade\"\n",
    "\t\t\t]\n",
    "\t\t}\n",
    "\t]\n",
    "}"
   ]
  },
  {
   "cell_type": "code",
   "execution_count": 4,
   "metadata": {},
   "outputs": [
    {
     "name": "stdout",
     "output_type": "stream",
     "text": [
      "{'nome': 'SuperMan', 'idade': 29, 'identidadeSecreta': 'Clart Kent', 'poderes': ['Super força', 'Super velocidade', 'Raio laser', 'Voar']}\n",
      "{'nome': 'Batman', 'idade': 35, 'identidadeSecreta': 'Bruce Wayne', 'poderes': ['Detective', 'Dinheiro', 'Raio laser']}\n",
      "{'nome': 'Batman', 'idade': 35, 'identidadeSecreta': 'Bruce Wayne', 'poderes': ['Detective', 'Dinheiro']}\n",
      "{'nome': 'Wonder Woman', 'idade': 900, 'identidadeSecreta': 'Diana de Temiscira', 'poderes': ['Super força', 'Super velocidade', 'Laco da Verdade']}\n",
      "<class 'str'>\n"
     ]
    }
   ],
   "source": [
    "# Completa o exercicio aqui\n",
    "import json\n",
    "dict_superherois = superherois\n",
    "\n",
    "superman_voar = dict_superherois[\"membros\"][0]\n",
    "superman_voar['poderes'].append('Voar')\n",
    "print(superman_voar)\n",
    "\n",
    "batmanidade = dict_superherois['membros'][1]\n",
    "batmanidade['idade'] = 35\n",
    "print(batmanidade)\n",
    "\n",
    "batmanRaioLazer = dict_superherois[\"membros\"][1]\n",
    "batmanRaioLazer['poderes'].pop(-1)\n",
    "print(batmanRaioLazer)\n",
    "\n",
    "WonderWomanLaco = dict_superherois[\"membros\"][2]\n",
    "WonderWomanLaco['poderes'].append('Laco da Verdade')\n",
    "print(WonderWomanLaco)\n",
    "\n",
    "\n",
    "json_Superherois = json.dumps(dict_superherois)\n",
    "print(type(json_Superherois))"
   ]
  },
  {
   "cell_type": "markdown",
   "metadata": {},
   "source": [
    "4) Com base no exercício anterior, modificar a estrutura de **super_herois** para conseguir que **membros** tenham dois ramos: \"membrosAtivos\" e \"membrosInativos\", onde cada um destes ramos, armazenem os heróis que estão no ativo e os que não. Neste caso, introduzimos SuperMan e WonderWoman na lista de ativos e Batman na de inativos. Esta modificação podemos fazê-la como quisermos: ou programando as estruturas de dados e adicionar ao JSON ou fazer a alteração diretamente no JSON. Ao finalizar, podemos comprovar o nosso JSON num visualizador online.(http://jsonviewer.stack.hu/)"
   ]
  },
  {
   "cell_type": "code",
   "execution_count": 5,
   "metadata": {},
   "outputs": [
    {
     "name": "stdout",
     "output_type": "stream",
     "text": [
      "{'nomedaEquipa': 'Super Hero Squad', 'cidade': 'Metro City', 'formado': 2016, 'baseSecreta': 'Super Tower', 'activo': 'Sim', 'membros': [{'nome': 'SuperMan', 'idade': 29, 'identidadeSecreta': 'Clart Kent', 'poderes': ['Super força', 'Super velocidade', 'Raio laser', 'Voar']}, {'nome': 'Batman', 'idade': 35, 'identidadeSecreta': 'Bruce Wayne', 'poderes': ['Detective', 'Dinheiro']}, {'nome': 'Wonder Woman', 'idade': 900, 'identidadeSecreta': 'Diana de Temiscira', 'poderes': ['Super força', 'Super velocidade', 'Laco da Verdade']}], 'membrosAtivos': [{'nome': 'SuperMan', 'idade': 29, 'identidadeSecreta': 'Clart Kent', 'poderes': ['Super força', 'Super velocidade', 'Raio laser', 'Voar']}, {'nome': 'Wonder Woman', 'idade': 900, 'identidadeSecreta': 'Diana de Temiscira', 'poderes': ['Super força', 'Super velocidade', 'Laco da Verdade']}], 'membrosIntivos': [{'nome': 'Batman', 'idade': 35, 'identidadeSecreta': 'Bruce Wayne', 'poderes': ['Detective', 'Dinheiro']}]}\n"
     ]
    }
   ],
   "source": [
    "# Completa o exercicio aqui\n",
    "atividade_super = json.loads(json_Superherois)\n",
    "atividade_super['membrosAtivos']= [atividade_super['membros'][0],atividade_super['membros'][2]]\n",
    "atividade_super['membrosIntivos']= [atividade_super['membros'][1]]\n",
    "print(atividade_super)"
   ]
  },
  {
   "cell_type": "markdown",
   "metadata": {},
   "source": [
    "5) No seguinte código, aceder a um JSON de forma remota. A partir da resposta, fazer o seguinte:\n",
    "\n",
    "* Mostrar o tipo de dados que se recebeu.\n",
    "* Expor os dados recebidos.\n",
    "* Mostrar o número de pessoas que se encontram atualmente na estrutura.\n",
    "* Fazer um ciclo que percorra todas essas pessoas e mostre o nome e armazém no qual se encontra.\n"
   ]
  },
  {
   "cell_type": "code",
   "execution_count": 17,
   "metadata": {},
   "outputs": [
    {
     "name": "stdout",
     "output_type": "stream",
     "text": [
      "<class 'dict'>\n",
      "{'number': 10, 'people': [{'craft': 'Shenzhou 13', 'name': 'Zhai Zhigang'}, {'craft': 'Shenzhou 13', 'name': 'Wang Yaping'}, {'craft': 'Shenzhou 13', 'name': 'Ye Guangfu'}, {'craft': 'ISS', 'name': 'Raja Chari'}, {'craft': 'ISS', 'name': 'Tom Marshburn'}, {'craft': 'ISS', 'name': 'Kayla Barron'}, {'craft': 'ISS', 'name': 'Matthias Maurer'}, {'craft': 'ISS', 'name': 'Oleg Artemyev'}, {'craft': 'ISS', 'name': 'Denis Matveev'}, {'craft': 'ISS', 'name': 'Sergey Korsakov'}], 'message': 'success'}\n",
      "Numero de Pessoas:  10\n",
      "Armazem: Shenzhou 13 -- Piloto: Zhai Zhigang\n",
      "Armazem: Shenzhou 13 -- Piloto: Wang Yaping\n",
      "Armazem: Shenzhou 13 -- Piloto: Ye Guangfu\n",
      "Armazem: ISS -- Piloto: Raja Chari\n",
      "Armazem: ISS -- Piloto: Tom Marshburn\n",
      "Armazem: ISS -- Piloto: Kayla Barron\n",
      "Armazem: ISS -- Piloto: Matthias Maurer\n",
      "Armazem: ISS -- Piloto: Oleg Artemyev\n",
      "Armazem: ISS -- Piloto: Denis Matveev\n",
      "Armazem: ISS -- Piloto: Sergey Korsakov\n"
     ]
    }
   ],
   "source": [
    "from pip._vendor import requests\n",
    "\n",
    "\n",
    "# API que nos comunica quantas pessoas se encontram atualmente no espaço \n",
    "response = requests.get(\"http://api.open-notify.org/astros.json\")\n",
    "data = response.json()\n",
    "\n",
    "print(type(data))\n",
    "print(data)\n",
    "print(\"Numero de Pessoas: \",data['number'])\n",
    "for i in data['people']:\n",
    "    print(f\"Armazem: {i['craft']} -- Piloto: {i['name']}\")\n",
    "\n",
    "# Completar o exercício."
   ]
  },
  {
   "cell_type": "code",
   "execution_count": null,
   "metadata": {},
   "outputs": [],
   "source": []
  }
 ],
 "metadata": {
  "anaconda-cloud": {},
  "kernelspec": {
   "display_name": "Python 3",
   "language": "python",
   "name": "python3"
  },
  "language_info": {
   "codemirror_mode": {
    "name": "ipython",
    "version": 3
   },
   "file_extension": ".py",
   "mimetype": "text/x-python",
   "name": "python",
   "nbconvert_exporter": "python",
   "pygments_lexer": "ipython3",
   "version": "3.10.2"
  }
 },
 "nbformat": 4,
 "nbformat_minor": 1
}
