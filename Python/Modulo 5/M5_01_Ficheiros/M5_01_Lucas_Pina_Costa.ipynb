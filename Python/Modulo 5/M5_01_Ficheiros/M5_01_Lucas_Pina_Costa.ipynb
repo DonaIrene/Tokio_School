{
 "cells": [
  {
   "cell_type": "markdown",
   "metadata": {},
   "source": [
    "# Exercícios Módulo 5. Ficheiros (Enunciado)\n",
    "\n",
    "Considerações a ter em conta:\n",
    "\n",
    "* Guardar este documento com o seguinte formato para entrega: __M5_01_nome_apelido1_apelido2__\n",
    "* Fazer os exercícios com as ferramentas vistas nas sessões. \n",
    "* Comentar o código\n",
    "* Utilizar nomes de variáveis apropriados, se vai guardar uma nota, chamar a essa variável nota, não n ou x"
   ]
  },
  {
   "cell_type": "markdown",
   "metadata": {},
   "source": [
    "**1)  Neste exercício deverá criar um programa que abra e leia um ficheiro de texto, e nos proporcione a seguinte informação:**\n",
    "\n",
    "* Nome do ficheiro\n",
    "* Se o ficheiro está fechado ou não (True ou False)\n",
    "* O modo de abertura do ficheiro\n",
    "\n",
    "O ficheiro de texto irá denominar-se **provas.txt** e terá o seguinte conteúdo em texto plano (criar previamente):\n",
    "\n",
    "```\n",
    "Olá que tal estás \n",
    "Isto é uma prova \n",
    "Hoje não chove\n",
    "Aproxima-se o natal \n",
    "Até logo e boa \n",
    "continuação\n",
    "```\n",
    "\n",
    "Pesquisar na documentação que métodos nos proporcionam a informação requerida. Por último, listar o conteúdo do ficheiro.\n",
    "\n",
    "**Aviso importante**: *se quer ler um ficheiro que não se escreveu diretamente com Python, então é possível que encontre erros de codificação ao \n",
    "mostrar alguns caracteres. Assegure-se de indicar a codificação do ficheiro manualmente durante a abertura como argumento no **open**, por\n",
    "exemplo com UTF-8*:\n",
    "\n",
    "```python\n",
    "open(..., encoding=\"utf8\")\n",
    "```"
   ]
  },
  {
   "cell_type": "code",
   "execution_count": 47,
   "metadata": {},
   "outputs": [
    {
     "name": "stdout",
     "output_type": "stream",
     "text": [
      "provas.txt\n",
      "False\n",
      "r\n",
      "['Olá que tal estás \\n', 'Isto é uma prova \\n', 'Hoje não chove\\n', 'Aproxima-se o natal \\n', 'Até logo e boa \\n', 'continuação']\n"
     ]
    }
   ],
   "source": [
    "# Completar o exercício aqui\n",
    "\n",
    "ficheiro = open('provas.txt',mode='r', encoding='UTF-8')\n",
    "texto = ficheiro.readlines()\n",
    "\n",
    "print(ficheiro.name)\n",
    "print(ficheiro.closed)\n",
    "print(ficheiro.mode)\n",
    "print(texto)\n",
    "\n",
    "ficheiro.close()"
   ]
  },
  {
   "cell_type": "markdown",
   "metadata": {},
   "source": [
    "**2) Sobre o ficheiro anterior, obtenha a seguinte informação:**\n",
    "\n",
    "* Leitura de uma linha do ficheiro \n",
    "* Leitura do ficheiro linha a linha"
   ]
  },
  {
   "cell_type": "code",
   "execution_count": 46,
   "metadata": {},
   "outputs": [
    {
     "name": "stdout",
     "output_type": "stream",
     "text": [
      "Olá que tal estás \n",
      "\n",
      "Isto é uma prova \n",
      "\n",
      "Hoje não chove\n",
      "\n",
      "Aproxima-se o natal \n",
      "\n",
      "Até logo e boa \n",
      "\n",
      "continuação\n"
     ]
    }
   ],
   "source": [
    "# Completar o exercício aqui\n",
    "ficheiro = open('provas.txt',mode='r',encoding='UTF-8')\n",
    "\n",
    "linhaFicheiro = ficheiro.readline()  \n",
    "print(linhaFicheiro)\n",
    "\n",
    "linhasFicheiro = ficheiro.readlines()\n",
    "for linha in linhasFicheiro:\n",
    "    print(linha)\n",
    "\n",
    "ficheiro.close()"
   ]
  },
  {
   "cell_type": "markdown",
   "metadata": {},
   "source": [
    "**3)  Sobre o ficheiro anterior, fazer a seguinte operação:**\n",
    "\n",
    "* Abrir o ficheiro em modo de escrita (concatenando o conteúdo, sem substituir) e escrever uma nova linha de texto\n",
    "\n",
    "Comprovar que esta a funcionar corretamente imprimindo o conteúdo do ficheiro (terá que fechar e abrir a conexão para poder visualizar as mudanças)."
   ]
  },
  {
   "cell_type": "code",
   "execution_count": 48,
   "metadata": {},
   "outputs": [
    {
     "name": "stdout",
     "output_type": "stream",
     "text": [
      "Olá que tal estás \n",
      "\n",
      "Isto é uma prova \n",
      "\n",
      "Hoje não chove\n",
      "\n",
      "Aproxima-se o natal \n",
      "\n",
      "Até logo e boa \n",
      "\n",
      "continuação\n",
      "\n",
      "Proximo texto em desenvolvimento.\n"
     ]
    }
   ],
   "source": [
    "# Completar o exercício aqui\n",
    "ficheiroAppend = open('provas.txt',mode='a',encoding='UTF-8')\n",
    "texto = '\\nProximo texto em desenvolvimento.'\n",
    "ficheiroAppend.write(texto)\n",
    "ficheiroAppend.close()\n",
    "\n",
    "with open('provas.txt',mode='r',encoding='UTF-8') as ficheiroRead:\n",
    "    for linha in ficheiroRead:\n",
    "        print(linha)\n",
    "ficheiroRead.close()\n"
   ]
  },
  {
   "cell_type": "markdown",
   "metadata": {},
   "source": [
    "**4) Sobre o ficheiro anterior, fazer a seguinte operação:**\n",
    "\n",
    "* Abrir o ficheiro em modo de escrita (substituindo o conteúdo) e escrever uma nova linha de texto\n",
    "\n",
    "Comprovar que esta a funcionar corretamente imprimindo o conteúdo do ficheiro (terá que fechar e abrir a conexão para poder visualizar as mudanças)."
   ]
  },
  {
   "cell_type": "code",
   "execution_count": 45,
   "metadata": {},
   "outputs": [
    {
     "data": {
      "text/plain": [
       "'Este texto foi subscrito'"
      ]
     },
     "execution_count": 45,
     "metadata": {},
     "output_type": "execute_result"
    }
   ],
   "source": [
    "# Completar o exercício aqui\n",
    "\n",
    "ficheiro = open('provas.txt',mode='w',encoding='UTF-8')\n",
    "textoChange = 'Este texto foi subscrito'\n",
    "ficheiro.write(textoChange)\n",
    "ficheiro.close()\n",
    "\n",
    "ficheiro = open('provas.txt',mode='r',encoding='UTF-8')\n",
    "ficheiro.readline()\n"
   ]
  },
  {
   "cell_type": "markdown",
   "metadata": {},
   "source": [
    "**5) Neste exercício deverá criar um programa que leia os dados de um ficheiro de texto, que transforme cada fila num dicionário e o adicione a uma lista chamada pessoas. De seguida recorre-se as pessoas da lista e para cada uma mostrar de forma amigável todos os seus campos. Por exemplo:**\n",
    "\n",
    "```\n",
    "(id=1) Carlos Pérez => 05/01/1989 \n",
    "```\n",
    "\n",
    "O ficheiro de texto irá denominar-se **pessoas.txt** e terá o seguinte conteúdo em texto plano (criar previamente):\n",
    "\n",
    "\n",
    "```\n",
    "1;Carlos;Pérez;05/01/1989\n",
    "2;Manuel;Heredia;26/12/1973\n",
    "3;Rosa;Campos;12/06/1961\n",
    "4;David;García;25/07/2006\n",
    "```\n",
    "\n",
    "Os campos do dicionário serão por ordem: **id**, **nome**, **apelido** e **nascimento**.\n",
    "\n",
    "**Aviso importante**: *se quer ler um ficheiro que não se escreveu diretamente com Python, então é possível que encontre erros de codificação ao mostrar alguns caracteres. Assegure-se de indicar a codificação do ficheiro manualmente durante a abertura como argumento no **open**, por exemplo com UTF-8*:\n",
    "\n",
    "```python\n",
    "open(..., encoding=\"utf8\")\n",
    "```\n",
    "\n",
    "Pista: é possível que tenha que recorrer a funções como replace ou split para poder modificar o texto de uma linha de texto. \n",
    "Pesquisar documentação sobre isso."
   ]
  },
  {
   "cell_type": "code",
   "execution_count": 108,
   "metadata": {},
   "outputs": [
    {
     "ename": "TypeError",
     "evalue": "write() argument must be str, not list",
     "output_type": "error",
     "traceback": [
      "\u001b[1;31m---------------------------------------------------------------------------\u001b[0m",
      "\u001b[1;31mTypeError\u001b[0m                                 Traceback (most recent call last)",
      "\u001b[1;32mC:\\Users\\PAO_DE~1\\AppData\\Local\\Temp/ipykernel_14080/2407627638.py\u001b[0m in \u001b[0;36m<module>\u001b[1;34m\u001b[0m\n\u001b[0;32m     16\u001b[0m \u001b[1;33m\u001b[0m\u001b[0m\n\u001b[0;32m     17\u001b[0m         \u001b[0mprograma\u001b[0m \u001b[1;33m=\u001b[0m \u001b[0mopen\u001b[0m\u001b[1;33m(\u001b[0m\u001b[1;34m'pessoas.txt,'\u001b[0m\u001b[1;33m,\u001b[0m\u001b[0mmode\u001b[0m\u001b[1;33m=\u001b[0m\u001b[1;34m'a'\u001b[0m\u001b[1;33m,\u001b[0m\u001b[0mencoding\u001b[0m\u001b[1;33m=\u001b[0m\u001b[1;34m'UTF-8'\u001b[0m\u001b[1;33m)\u001b[0m\u001b[1;33m\u001b[0m\u001b[1;33m\u001b[0m\u001b[0m\n\u001b[1;32m---> 18\u001b[1;33m         \u001b[0mprograma\u001b[0m\u001b[1;33m.\u001b[0m\u001b[0mwrite\u001b[0m\u001b[1;33m(\u001b[0m\u001b[0minfor\u001b[0m\u001b[1;33m)\u001b[0m\u001b[1;33m\u001b[0m\u001b[1;33m\u001b[0m\u001b[0m\n\u001b[0m\u001b[0;32m     19\u001b[0m \u001b[1;33m\u001b[0m\u001b[0m\n\u001b[0;32m     20\u001b[0m         \u001b[0mprograma\u001b[0m\u001b[1;33m.\u001b[0m\u001b[0mclose\u001b[0m\u001b[1;33m(\u001b[0m\u001b[1;33m)\u001b[0m\u001b[1;33m\u001b[0m\u001b[1;33m\u001b[0m\u001b[0m\n",
      "\u001b[1;31mTypeError\u001b[0m: write() argument must be str, not list"
     ]
    }
   ],
   "source": [
    "# Completar o exercício aqui\n",
    "programa = open('pessoas.txt',mode='w',encoding='UTF-8')\n",
    "texto = '1;Carlos;Perez;05/01/1989\\n2;Manuel;Campos;26/12/1973\\n3;Rosa;Campos;12/06/1961\\n4;David;Garcia;27/07/2006'\n",
    "texto.split(';')\n",
    "programa.write(texto)\n",
    "programa.close()\n",
    "\n",
    "dicionario = {'id':'','nome':'','apelido':'','nascimento':''}\n",
    "with open('pessoas.txt',mode='r') as programa:\n",
    "    for infor in programa:\n",
    "        infor = infor.split(';')\n",
    "        dicionario['id'] = infor[0]\n",
    "        dicionario['nome'] = infor[1]\n",
    "        dicionario['apelido'] = infor[2]\n",
    "        dicionario['nascimento'] = infor[3]\n",
    "\n",
    "        programa = open('pessoas.txt,',mode='a',encoding='UTF-8')\n",
    "        programa.write(infor)\n",
    "        \n",
    "        programa.close()\n",
    "    print(dicionario)\n",
    "\n",
    "\n",
    "\n"
   ]
  },
  {
   "cell_type": "code",
   "execution_count": null,
   "metadata": {},
   "outputs": [],
   "source": []
  }
 ],
 "metadata": {
  "anaconda-cloud": {},
  "kernelspec": {
   "display_name": "Python 3",
   "language": "python",
   "name": "python3"
  },
  "language_info": {
   "codemirror_mode": {
    "name": "ipython",
    "version": 3
   },
   "file_extension": ".py",
   "mimetype": "text/x-python",
   "name": "python",
   "nbconvert_exporter": "python",
   "pygments_lexer": "ipython3",
   "version": "3.10.2"
  }
 },
 "nbformat": 4,
 "nbformat_minor": 1
}
