{
 "cells": [
  {
   "cell_type": "code",
   "execution_count": 6,
   "metadata": {},
   "outputs": [],
   "source": [
    "texto = 'um texto qualquer\\noutro texto'\n",
    "ficheiro = open('1_file.txt','w')\n",
    "ficheiro.write(texto)\n",
    "ficheiro.close()"
   ]
  },
  {
   "cell_type": "code",
   "execution_count": 7,
   "metadata": {},
   "outputs": [
    {
     "name": "stdout",
     "output_type": "stream",
     "text": [
      "um texto qualquer\n",
      "outro texto\n"
     ]
    }
   ],
   "source": [
    "ficheiro = open('1_file.txt','r')\n",
    "texto = ficheiro.read()\n",
    "ficheiro.close()\n",
    "print(texto)"
   ]
  },
  {
   "cell_type": "code",
   "execution_count": 25,
   "metadata": {},
   "outputs": [
    {
     "name": "stdout",
     "output_type": "stream",
     "text": [
      "['um texto qualquer\\n', 'outro texto\\n', 'mais um texto']\n"
     ]
    }
   ],
   "source": [
    "ficheiro = open('1_file.txt')\n",
    "texto = ficheiro.readlines()\n",
    "ficheiro.close()\n",
    "print(texto)"
   ]
  },
  {
   "cell_type": "code",
   "execution_count": 23,
   "metadata": {},
   "outputs": [],
   "source": [
    "ficheiro = open('1_file.txt','a')\n",
    "ficheiro.write('\\nmais um texto')\n",
    "ficheiro.close()"
   ]
  },
  {
   "cell_type": "code",
   "execution_count": 27,
   "metadata": {},
   "outputs": [
    {
     "name": "stdout",
     "output_type": "stream",
     "text": [
      "um texto qualquer\n",
      "\n",
      "outro texto\n",
      "\n",
      "mais um texto\n"
     ]
    }
   ],
   "source": [
    "ficheiro = open('1_file.txt','r')\n",
    "for io in ficheiro:\n",
    "    print(io)"
   ]
  },
  {
   "cell_type": "code",
   "execution_count": null,
   "metadata": {},
   "outputs": [],
   "source": [
    "import openpyxl\n",
    "\n",
    "#Abre ym ficheiro Excel\n",
    "wb = openpyxl.load_workbook(\"Contabilidade_2002.csv\")\n",
    "\n",
    "#print os nomes das folhas\n",
    "print(wb.sheetnames)"
   ]
  }
 ],
 "metadata": {
  "interpreter": {
   "hash": "5a9c3319abff85906933357bf1b826869054efb7109257d1a2a7b171393a0302"
  },
  "kernelspec": {
   "display_name": "Python 3.10.2 64-bit",
   "language": "python",
   "name": "python3"
  },
  "language_info": {
   "codemirror_mode": {
    "name": "ipython",
    "version": 3
   },
   "file_extension": ".py",
   "mimetype": "text/x-python",
   "name": "python",
   "nbconvert_exporter": "python",
   "pygments_lexer": "ipython3",
   "version": "3.10.2"
  },
  "orig_nbformat": 4
 },
 "nbformat": 4,
 "nbformat_minor": 2
}
