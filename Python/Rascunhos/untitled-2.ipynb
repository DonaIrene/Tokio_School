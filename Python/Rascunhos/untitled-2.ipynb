{
 "cells": [
  {
   "cell_type": "code",
   "execution_count": 1,
   "metadata": {},
   "outputs": [
    {
     "ename": "SyntaxError",
     "evalue": "'(' was never closed (3258808498.py, line 4)",
     "output_type": "error",
     "traceback": [
      "\u001b[1;36m  Input \u001b[1;32mIn [1]\u001b[1;36m\u001b[0m\n\u001b[1;33m    print(\"Olá\"\u001b[0m\n\u001b[1;37m         ^\u001b[0m\n\u001b[1;31mSyntaxError\u001b[0m\u001b[1;31m:\u001b[0m '(' was never closed\n"
     ]
    }
   ],
   "source": [
    "## Vamos provocar um erro de sintaxe e observaremos como não é executado qualquer linha de codigo##\n",
    "print(\"Inicio\")\n",
    "print (\"Este print \")\n",
    "print(\"Olá\""
   ]
  },
  {
   "cell_type": "code",
   "execution_count": 2,
   "metadata": {},
   "outputs": [
    {
     "name": "stdout",
     "output_type": "stream",
     "text": [
      "Inicio\n",
      "este print esta bem, deve executar\n"
     ]
    },
    {
     "ename": "NameError",
     "evalue": "name 'prit' is not defined",
     "output_type": "error",
     "traceback": [
      "\u001b[1;31m---------------------------------------------------------------------------\u001b[0m",
      "\u001b[1;31mNameError\u001b[0m                                 Traceback (most recent call last)",
      "\u001b[1;32mc:\\Users\\Pao_de_Queijo\\Documents\\Tokio_School\\Python\\Rascunhos\\untitled-2.ipynb Cell 2'\u001b[0m in \u001b[0;36m<module>\u001b[1;34m\u001b[0m\n\u001b[0;32m      <a href='vscode-notebook-cell:/c%3A/Users/Pao_de_Queijo/Documents/Tokio_School/Python/Rascunhos/untitled-2.ipynb#ch0000001?line=1'>2</a>\u001b[0m \u001b[39mprint\u001b[39m(\u001b[39m\"\u001b[39m\u001b[39mInicio\u001b[39m\u001b[39m\"\u001b[39m)\n\u001b[0;32m      <a href='vscode-notebook-cell:/c%3A/Users/Pao_de_Queijo/Documents/Tokio_School/Python/Rascunhos/untitled-2.ipynb#ch0000001?line=2'>3</a>\u001b[0m \u001b[39mprint\u001b[39m(\u001b[39m\"\u001b[39m\u001b[39meste print esta bem, deve executar\u001b[39m\u001b[39m\"\u001b[39m)\n\u001b[1;32m----> <a href='vscode-notebook-cell:/c%3A/Users/Pao_de_Queijo/Documents/Tokio_School/Python/Rascunhos/untitled-2.ipynb#ch0000001?line=3'>4</a>\u001b[0m prit(\u001b[39m\"\u001b[39m\u001b[39mOlá\u001b[39m\u001b[39m\"\u001b[39m)\n",
      "\u001b[1;31mNameError\u001b[0m: name 'prit' is not defined"
     ]
    }
   ],
   "source": [
    "##Agora vamos ver alguns dos erros de semântica mais comuns\n",
    "###Erros de Nome (NameError)\n",
    "print(\"Inicio\")\n",
    "print(\"este print esta bem, deve executar\")\n",
    "prit(\"Olá\")"
   ]
  },
  {
   "cell_type": "code",
   "execution_count": 6,
   "metadata": {},
   "outputs": [
    {
     "ename": "IndexError",
     "evalue": "pop from empty list",
     "output_type": "error",
     "traceback": [
      "\u001b[1;31m---------------------------------------------------------------------------\u001b[0m",
      "\u001b[1;31mIndexError\u001b[0m                                Traceback (most recent call last)",
      "\u001b[1;32mc:\\Users\\Pao_de_Queijo\\Documents\\Tokio_School\\Python\\Rascunhos\\untitled-2.ipynb Cell 3'\u001b[0m in \u001b[0;36m<module>\u001b[1;34m\u001b[0m\n\u001b[0;32m      <a href='vscode-notebook-cell:/c%3A/Users/Pao_de_Queijo/Documents/Tokio_School/Python/Rascunhos/untitled-2.ipynb#ch0000002?line=4'>5</a>\u001b[0m l\u001b[39m.\u001b[39mpop()\n\u001b[0;32m      <a href='vscode-notebook-cell:/c%3A/Users/Pao_de_Queijo/Documents/Tokio_School/Python/Rascunhos/untitled-2.ipynb#ch0000002?line=6'>7</a>\u001b[0m l\n\u001b[1;32m----> <a href='vscode-notebook-cell:/c%3A/Users/Pao_de_Queijo/Documents/Tokio_School/Python/Rascunhos/untitled-2.ipynb#ch0000002?line=7'>8</a>\u001b[0m l\u001b[39m.\u001b[39;49mpop()\n",
      "\u001b[1;31mIndexError\u001b[0m: pop from empty list"
     ]
    }
   ],
   "source": [
    "#IndexError\n",
    "l = [1,2,3]\n",
    "l.pop()\n",
    "l.pop()\n",
    "l.pop()\n",
    "\n",
    "l\n",
    "l.pop()\n"
   ]
  },
  {
   "cell_type": "code",
   "execution_count": 7,
   "metadata": {},
   "outputs": [
    {
     "data": {
      "text/plain": [
       "[1, 2]"
      ]
     },
     "execution_count": 7,
     "metadata": {},
     "output_type": "execute_result"
    }
   ],
   "source": [
    "##IndexError\n",
    "##Podemos previnir utilizando len() > 0:\n",
    "l= [1,2,3]\n",
    "if len(l)> 0:\n",
    "    l.pop()\n",
    "\n",
    "l"
   ]
  },
  {
   "cell_type": "code",
   "execution_count": 9,
   "metadata": {},
   "outputs": [
    {
     "name": "stdout",
     "output_type": "stream",
     "text": [
      "<class 'str'>\n",
      "<class 'int'>\n"
     ]
    },
    {
     "ename": "TypeError",
     "evalue": "unsupported operand type(s) for /: 'str' and 'int'",
     "output_type": "error",
     "traceback": [
      "\u001b[1;31m---------------------------------------------------------------------------\u001b[0m",
      "\u001b[1;31mTypeError\u001b[0m                                 Traceback (most recent call last)",
      "\u001b[1;32mc:\\Users\\Pao_de_Queijo\\Documents\\Tokio_School\\Python\\Rascunhos\\untitled-2.ipynb Cell 5'\u001b[0m in \u001b[0;36m<module>\u001b[1;34m\u001b[0m\n\u001b[0;32m      <a href='vscode-notebook-cell:/c%3A/Users/Pao_de_Queijo/Documents/Tokio_School/Python/Rascunhos/untitled-2.ipynb#ch0000004?line=4'>5</a>\u001b[0m \u001b[39mprint\u001b[39m(\u001b[39mtype\u001b[39m(n))\n\u001b[0;32m      <a href='vscode-notebook-cell:/c%3A/Users/Pao_de_Queijo/Documents/Tokio_School/Python/Rascunhos/untitled-2.ipynb#ch0000004?line=5'>6</a>\u001b[0m \u001b[39mprint\u001b[39m(\u001b[39mtype\u001b[39m(m))\n\u001b[1;32m----> <a href='vscode-notebook-cell:/c%3A/Users/Pao_de_Queijo/Documents/Tokio_School/Python/Rascunhos/untitled-2.ipynb#ch0000004?line=6'>7</a>\u001b[0m \u001b[39mprint\u001b[39m(\u001b[39mf\u001b[39m\u001b[39m\"\u001b[39m\u001b[39m{\u001b[39;00mn\u001b[39m}\u001b[39;00m\u001b[39m/\u001b[39m\u001b[39m{\u001b[39;00mm\u001b[39m}\u001b[39;00m\u001b[39m=\u001b[39m\u001b[39m{\u001b[39;00mn\u001b[39m/\u001b[39mm\u001b[39m}\u001b[39;00m\u001b[39m\"\u001b[39m)\n",
      "\u001b[1;31mTypeError\u001b[0m: unsupported operand type(s) for /: 'str' and 'int'"
     ]
    }
   ],
   "source": [
    "##Erros de tipo de dado(TypeError)\n",
    "n = input(\"Introduz um número: \")\n",
    "m = 4\n",
    "#O porque do erro#\n",
    "print(type(n))\n",
    "print(type(m))\n",
    "print(f\"{n}/{m}={n/m}\")\n"
   ]
  },
  {
   "cell_type": "code",
   "execution_count": 10,
   "metadata": {},
   "outputs": [
    {
     "name": "stdout",
     "output_type": "stream",
     "text": [
      "<class 'float'>\n",
      "<class 'int'>\n",
      "56.0/4=14.0\n"
     ]
    }
   ],
   "source": [
    "##Podemos o transformar utilizando float()\n",
    "n = float(input(\"Introduz um número: \"))\n",
    "m = 4\n",
    "\n",
    "print(type(n))\n",
    "print(type(m))\n",
    "print(f\"{n}/{m}={n/m}\")"
   ]
  },
  {
   "cell_type": "code",
   "execution_count": 11,
   "metadata": {},
   "outputs": [
    {
     "ename": "ValueError",
     "evalue": "could not convert string to float: 'aaa'",
     "output_type": "error",
     "traceback": [
      "\u001b[1;31m---------------------------------------------------------------------------\u001b[0m",
      "\u001b[1;31mValueError\u001b[0m                                Traceback (most recent call last)",
      "\u001b[1;32mc:\\Users\\Pao_de_Queijo\\Documents\\Tokio_School\\Python\\Rascunhos\\untitled-2.ipynb Cell 7'\u001b[0m in \u001b[0;36m<module>\u001b[1;34m\u001b[0m\n\u001b[0;32m      <a href='vscode-notebook-cell:/c%3A/Users/Pao_de_Queijo/Documents/Tokio_School/Python/Rascunhos/untitled-2.ipynb#ch0000006?line=0'>1</a>\u001b[0m \u001b[39m##Por vezes podemos não conseguir prever o erro#\u001b[39;00m\n\u001b[1;32m----> <a href='vscode-notebook-cell:/c%3A/Users/Pao_de_Queijo/Documents/Tokio_School/Python/Rascunhos/untitled-2.ipynb#ch0000006?line=1'>2</a>\u001b[0m n \u001b[39m=\u001b[39m \u001b[39mfloat\u001b[39;49m(\u001b[39minput\u001b[39;49m(\u001b[39m\"\u001b[39;49m\u001b[39mIntroduz um número: \u001b[39;49m\u001b[39m\"\u001b[39;49m))\n\u001b[0;32m      <a href='vscode-notebook-cell:/c%3A/Users/Pao_de_Queijo/Documents/Tokio_School/Python/Rascunhos/untitled-2.ipynb#ch0000006?line=2'>3</a>\u001b[0m m \u001b[39m=\u001b[39m \u001b[39m4\u001b[39m\n\u001b[0;32m      <a href='vscode-notebook-cell:/c%3A/Users/Pao_de_Queijo/Documents/Tokio_School/Python/Rascunhos/untitled-2.ipynb#ch0000006?line=4'>5</a>\u001b[0m \u001b[39mprint\u001b[39m(\u001b[39mtype\u001b[39m(n))\n",
      "\u001b[1;31mValueError\u001b[0m: could not convert string to float: 'aaa'"
     ]
    }
   ],
   "source": [
    "##Por vezes podemos não conseguir prever o erro#\n",
    "n = float(input(\"Introduz um número: \"))\n",
    "m = 4\n",
    "\n",
    "print(type(n))\n",
    "print(type(m))\n",
    "print(f\"{n}/{m}={n/m}\") "
   ]
  },
  {
   "cell_type": "code",
   "execution_count": 12,
   "metadata": {},
   "outputs": [
    {
     "name": "stdout",
     "output_type": "stream",
     "text": [
      "Ocorreu um erro, introduza um numero corretamente.\n"
     ]
    }
   ],
   "source": [
    "##Podemos utilizar as exeções (try, execept)#\n",
    "\n",
    "try:\n",
    "    n = float(input(\"Introduz um número: \"))\n",
    "    m = 4\n",
    "    print(f\"{n}/{m}={n/m}\")\n",
    "except:\n",
    "    print(\"Ocorreu um erro, introduza um numero corretamente.\")"
   ]
  },
  {
   "cell_type": "code",
   "execution_count": 1,
   "metadata": {},
   "outputs": [
    {
     "name": "stdout",
     "output_type": "stream",
     "text": [
      "Ocorreu um erro, introduza um número corretamente!\n",
      "2.0/4=0.5\n"
     ]
    }
   ],
   "source": [
    "##Ainda podemos utilizar o while(True) para repetir ate que seja introduzido um numero corretamente\n",
    "while (True):\n",
    "    try:\n",
    "        n = float(input(\"Introduza um número: \"))\n",
    "        m = 4\n",
    "        print(f\"{n}/{m}={n/m}\")\n",
    "        break\n",
    "\n",
    "    except:\n",
    "        print(\"Ocorreu um erro, introduza um número corretamente!\")\n",
    "        \n"
   ]
  },
  {
   "cell_type": "code",
   "execution_count": 4,
   "metadata": {},
   "outputs": [
    {
     "name": "stdout",
     "output_type": "stream",
     "text": [
      "Ocorreu um erro, intraduza um número corretamente.\n",
      "6.0/4=1.5\n",
      "Tudo funcionou corretamente\n",
      "continua o programa...\n"
     ]
    }
   ],
   "source": [
    "#Ainda é possivel encadear um bloco else depois do execept\n",
    "while (True):\n",
    "    try: \n",
    "        n = float(input(\"Introduza um número: \"))\n",
    "        m = 4\n",
    "        print( f\"{n}/{m}={n/m}\")\n",
    "    except:\n",
    "        print(\"Ocorreu um erro, intraduza um número corretamente.\")\n",
    "    else: \n",
    "        print(\"Tudo funcionou corretamente\")\n",
    "        break\n",
    "print(\"continua o programa...\")\n"
   ]
  },
  {
   "cell_type": "code",
   "execution_count": 5,
   "metadata": {},
   "outputs": [
    {
     "name": "stdout",
     "output_type": "stream",
     "text": [
      "3.0/4=0.75\n",
      "Tudo funcionou corretamente\n",
      "Fim da interação\n",
      "continua o programa...\n"
     ]
    }
   ],
   "source": [
    "#E por ultimo ainda é possivel utilizarmos finally\n",
    "while (True):\n",
    "    try: \n",
    "        n = float(input(\"Introduza um número: \"))\n",
    "        m = 4\n",
    "        print( f\"{n}/{m}={n/m}\")\n",
    "    except:\n",
    "        print(\"Ocorreu um erro, intraduza um número corretamente.\")\n",
    "    else: \n",
    "        print(\"Tudo funcionou corretamente\")\n",
    "        break\n",
    "    finally:\n",
    "        print(\"Fim da interação\") #Sempre executa\n",
    "print(\"continua o programa...\")\n",
    "\n"
   ]
  },
  {
   "cell_type": "code",
   "execution_count": 1,
   "metadata": {},
   "outputs": [
    {
     "name": "stdout",
     "output_type": "stream",
     "text": [
      "TypeError\n"
     ]
    }
   ],
   "source": [
    "##Para capturar multiplas exceções, utilizamos um pequeno truque que, guardando uma exeção numa variavel#\n",
    "#assim podemos identificar o tipo de erro devido ao seu utilizador\n",
    "try:\n",
    "    n = input(\"Introduz um número: \")\n",
    "    5 / n \n",
    "except Exception as e:\n",
    "    print(type(e).__name__)"
   ]
  },
  {
   "cell_type": "code",
   "execution_count": 6,
   "metadata": {},
   "outputs": [
    {
     "name": "stdout",
     "output_type": "stream",
     "text": [
      "Erro! Não é permitido um valor nulo (pela excepção)\n"
     ]
    }
   ],
   "source": [
    "##Em algumas ocasiões pode interessar-nos chamar um erro manualmente\n",
    "def minha_funcao(algo = None):\n",
    "    try:\n",
    "        if algo is None:\n",
    "            raise ValueError (\"Erro!, Não é permitido um valor nulo\")\n",
    "    except:\n",
    "        print(\"Erro! Não é permitido um valor nulo (pela excepção)\")\n",
    "\n",
    "minha_funcao()\n"
   ]
  },
  {
   "cell_type": "code",
   "execution_count": 7,
   "metadata": {},
   "outputs": [
    {
     "name": "stdout",
     "output_type": "stream",
     "text": [
      "Olá Cristina!.\n",
      "O nome não tem nenhum valor atribuido\n"
     ]
    }
   ],
   "source": [
    "def saudar (nome = None):\n",
    "    try:\n",
    "        if nome == None:\n",
    "            raise ValueError()\n",
    "        else:\n",
    "            print(f\"Olá {nome}!.\")\n",
    "    except ValueError:\n",
    "        print(\"O nome não tem nenhum valor atribuido\")\n",
    "\n",
    "saudar(\"Cristina\")\n",
    "saudar()    "
   ]
  }
 ],
 "metadata": {
  "interpreter": {
   "hash": "2be5faf79681da6f2a61fdfdd5405d65d042280f7fba6178067603e3a2925119"
  },
  "kernelspec": {
   "display_name": "Python 3.10.2 64-bit",
   "language": "python",
   "name": "python3"
  },
  "language_info": {
   "codemirror_mode": {
    "name": "ipython",
    "version": 3
   },
   "file_extension": ".py",
   "mimetype": "text/x-python",
   "name": "python",
   "nbconvert_exporter": "python",
   "pygments_lexer": "ipython3",
   "version": "3.10.2"
  },
  "orig_nbformat": 4
 },
 "nbformat": 4,
 "nbformat_minor": 2
}
