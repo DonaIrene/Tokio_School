{
 "cells": [
  {
   "cell_type": "markdown",
   "metadata": {},
   "source": [
    "# Exercícios Módulo 2. Tipos avançados\n",
    "\n",
    "Considerações a ter em conta:\n",
    "\n",
    "* Guardar este documento com o seguinte formato para entrega: __M2_03_nome_apelido1_apelido2__ \n",
    "* Fazer os exercícios com as ferramentas vistas nas sessões. Ainda não chegámos às condicionais nem ciclos \n",
    "* Comentar o código\n",
    "* Utilizar nomes de variáveis apropriados, se vai guardar uma nota, chamar a essa variável nota, não n ou x"
   ]
  },
  {
   "cell_type": "markdown",
   "metadata": {},
   "source": [
    "## Exercícios de tipos avançados"
   ]
  },
  {
   "cell_type": "markdown",
   "metadata": {},
   "source": [
    "**1) Trabalhar com listas e tuplas**\n",
    "\n",
    "* Criar uma lista e uma tupla que contenha strings (pelo menos 3 elementos). Temática livre, sobre o que quiser, veículos, comida, música, etc.\n",
    "* Mostrar a lista e a tupla\n",
    "* Mostrar o 2º elemento da lista e o penúltimo da tupla\n",
    "* Modificar (se puder) algum elemento da lista e da tupla. E mostrar o resultado \n",
    "* Mostrar o tamanho da lista e da tupla\n",
    "* Fazer uma pesquisa de um elemento dentro da lista e da tupla. Mostrar se devolve True ou False\n",
    "* Adicionar (se puder) algum elemento da lista e da tupla. Mostrar de novo a lista e a tupla para verificar se se fez corretamente a ação.\n",
    "* Apagar ou eliminar (se puder) o conteúdo da lista e da tupla. Mostrar de novo a lista e a tupla para verificar se se fez corretamente a ação"
   ]
  },
  {
   "cell_type": "code",
   "execution_count": 1,
   "metadata": {},
   "outputs": [
    {
     "name": "stdout",
     "output_type": "stream",
     "text": [
      "['focus', 'clio', 'ibiza']\n",
      "('db9', 'enzo', 'senna')\n",
      "clio\n",
      "enzo\n",
      "['evo XII', 'clio', 'ibiza']\n",
      "3\n",
      "3\n",
      "False\n",
      "True\n",
      "['evo XII', 'clio', 'ibiza', 'focus']\n",
      "['clio', 'ibiza', 'focus']\n"
     ]
    }
   ],
   "source": [
    "# Completar o exercício aqui\n",
    "\n",
    "\n",
    "# Criação\n",
    "lista_1 = ['focus','clio','ibiza']\n",
    "\n",
    "tupla_1 = ('db9','enzo','senna')\n",
    "\n",
    "\n",
    "# Mostrar\n",
    "print (lista_1)\n",
    "\n",
    "print (tupla_1)\n",
    "\n",
    "# Mostrar elementos específicos\n",
    "\n",
    "print(lista_1[1])\n",
    "\n",
    "print(tupla_1[-2])\n",
    "\n",
    "\n",
    "# Modificar\n",
    "\n",
    "lista_1 [0] = 'evo XII'\n",
    "print (lista_1)            \n",
    "# Tuplas nao podem ser modificadas\n",
    "\n",
    "# Tamanho\n",
    "\n",
    "print(len(lista_1))\n",
    "\n",
    "print(len(tupla_1))\n",
    "\n",
    "# Pesquisa de elementos\n",
    "\n",
    "print('focus' in lista_1)\n",
    "\n",
    "print('db9' in tupla_1)\n",
    "\n",
    "# Adicionar elementos\n",
    "\n",
    "lista_1.append('focus')\n",
    "print (lista_1)\n",
    "# Em tupla nao e possivel adicionar, pois as tuplas sao imutaveis\n",
    "\n",
    "# Apagado\n",
    "lista_1.remove('evo XII')\n",
    "print (lista_1)\n"
   ]
  },
  {
   "cell_type": "markdown",
   "metadata": {},
   "source": [
    "**2) Trabalhar com sets e dicionários**\n",
    "\n",
    "* Criar um set e um dicionário que contenham strings (pelo menos 3 elementos no caso do set e 3 conjuntos de chave: valor no caso do dicionário). Temática livre, sobre o que quiser, veículos, comida, música, etc.\n",
    "* Mostrar o set e o dicionário\n",
    "* Mostrar (se puder) o 2º elemento do set e o valor da primeira chave-valor do dicionário \n",
    "* Modificar (se puder) algum elemento do set ou do dicionário. E mostrar o resultado \n",
    "* Mostrar o tamanho do set e do dicionário\n",
    "* Fazer uma pesquisa de um elemento dentro do set e dentro do dicionário. Mostrar se devolve True ou False\n",
    "* Adicionar (se puder) algum elemento ao set e alguma chave-valor ao dicionário. Mostrar de novo o set e o dicionário para verificar se se fez corretamente a ação.\n",
    "* Apagar ou eliminar (se puder) o conteúdo do set e do dicionário. Mostrar de novo o set e o dicionário para verificar se se fez corretamente a ação"
   ]
  },
  {
   "cell_type": "code",
   "execution_count": 86,
   "metadata": {},
   "outputs": [
    {
     "name": "stdout",
     "output_type": "stream",
     "text": [
      "{'Ferrari', 'Maserati', 'Renaut'} \n",
      " {'dic_1': {'Aston Martin': 'DB9', 'Porsche': '911', 'Ferrari': 'Enzo'}, 'dic_2': {'Renaut': 'Clio', 'Peugeot': '106', 'Seat': 'Ibiza'}}\n",
      "Maserati\n",
      "{'Aston Martin': 'DB9', 'Porsche': '911', 'Ferrari': 'Enzo'}\n",
      "{'dic_1': {'Aston Martin': 'DB9', 'Porsche': 'Carrera S', 'Ferrari': 'Enzo'}, 'dic_2': {'Renaut': 'Clio', 'Peugeot': '106', 'Seat': 'Ibiza'}}\n",
      "3\n",
      "2\n",
      "True\n",
      "False\n",
      "{'Ferrari', 'Seat', 'Maserati', 'Renaut'}\n",
      "{'dic_1': {'Aston Martin': 'DB9', 'Porsche': 'Carrera S', 'Ferrari': 'Enzo', 'Bentley': 'Continental gt'}, 'dic_2': {'Renaut': 'Clio', 'Peugeot': '106', 'Seat': 'Ibiza'}}\n",
      "set()\n",
      "{}\n"
     ]
    }
   ],
   "source": [
    "#  Completar o exercício aqui\n",
    "\n",
    "\n",
    "# Criação\n",
    "\n",
    "set_1 = {'Renaut','Ferrari','Maserati'}\n",
    "dicionario_1 = {'dic_1':{'Aston Martin':'DB9', 'Porsche':'911', 'Ferrari':'Enzo'},'dic_2':{'Renaut':'Clio','Peugeot':'106','Seat':'Ibiza'}}\n",
    "\n",
    "# Mostrar\n",
    "\n",
    "print(set_1,'\\n',dicionario_1)\n",
    "\n",
    "# Mostrar elementos específicos\n",
    "\n",
    "print(list(set_1)[1])\n",
    "print(dicionario_1['dic_1'])\n",
    "\n",
    "# Modificar\n",
    "\n",
    "#\"\"\"Nos sets, nao e possivel a modificaçao dos elementos, somente adicionar ou remover\"\"\"\n",
    "dicionario_1['dic_1']['Porsche'] = 'Carrera S'\n",
    "print (dicionario_1)\n",
    "\n",
    "# Tamanho\n",
    "\n",
    "print(len(set_1))\n",
    "print(len(dicionario_1))\n",
    "\n",
    "# Pesquisa de elementos\n",
    "\n",
    "print('Renaut' in set_1)\n",
    "print ('DB9' in dicionario_1)\n",
    "\n",
    "# Adicionar elementos\n",
    "\n",
    "set_1.add('Seat') \n",
    "print(set_1)\n",
    "\n",
    "dicionario_1['dic_1']['Bentley']='Continental gt'\n",
    "print(dicionario_1)\n",
    "\n",
    "# Apagado\n",
    "\n",
    "set_1.clear()\n",
    "print(set_1)\n",
    "\n",
    "dicionario_1.clear()\n",
    "print(dicionario_1)\n"
   ]
  },
  {
   "cell_type": "markdown",
   "metadata": {},
   "source": [
    "**3) Fazer um programa que peça ao utilizador 3 números que podem ser flutuantes (não é necessário fazer ciclos ainda, podemos repetir o código), estes números deverão ser introduzidos numa lista. Quando se finalizar a introdução dos dados, irá mostrar-se o somatório de toda a lista. Guardar o somatório numa variável que se chame “somatório”**\n",
    "\n",
    "*Ajuda: existe uma função chamada sum(lista) Experimente-a!*"
   ]
  },
  {
   "cell_type": "code",
   "execution_count": 82,
   "metadata": {},
   "outputs": [
    {
     "name": "stdout",
     "output_type": "stream",
     "text": [
      "[4.3, 5.4, 4.5]\n",
      "14.2\n"
     ]
    }
   ],
   "source": [
    "# Completar o exercício aqui\n",
    "numero_user= []\n",
    "numero_user.append(float(input()))\n",
    "numero_user.append(float(input()))\n",
    "numero_user.append(float(input()))\n",
    "\n",
    "somatorio = sum(numero_user)\n",
    "\n",
    "print (numero_user)\n",
    "print (somatorio)\n"
   ]
  },
  {
   "cell_type": "markdown",
   "metadata": {},
   "source": [
    "**4) Sobre o exercício anterior, queremos mostrar a média aritmética dos elementos dessa lista. Indicar a instrução necessária para a obter.**\n",
    "\n",
    "*Neste caso sabemos que o número de elementos que introduziu o utilizador é 3, mas noutra ocasião pode ser diferente, portanto, não fazer referência ao número 3 em nenhum sitio*"
   ]
  },
  {
   "cell_type": "code",
   "execution_count": 81,
   "metadata": {},
   "outputs": [
    {
     "name": "stdout",
     "output_type": "stream",
     "text": [
      "[2.0, 4.0, 6.0]\n",
      "4.0\n"
     ]
    }
   ],
   "source": [
    "# Completar o exercício aqui\n",
    "numero_user = []\n",
    "numero_user.append(float(input()))\n",
    "numero_user.append(float(input()))\n",
    "numero_user.append(float(input()))\n",
    "\n",
    "media = sum(numero_user)/len (numero_user)\n",
    "print (numero_user)\n",
    "print(media)\n"
   ]
  },
  {
   "cell_type": "markdown",
   "metadata": {},
   "source": [
    "**5) Dada a seguinte matriz (lista com quatro listas habitadas) observa-se que em cada fila, o quarto elemento deve ser sempre o resultado de somar os três primeiros. Pista: modificar as somas erradas utilizando slicing**\n",
    "\n",
    "* Não vale colocar diretamente os valores (nem os índices nem a soma): \n",
    "* matriz[1][3] = 6\n",
    "* matriz[3][3] = 12\n",
    "* Há que pesquisar uma forma automatizada de aceder e modificar esses valores"
   ]
  },
  {
   "cell_type": "code",
   "execution_count": 51,
   "metadata": {},
   "outputs": [
    {
     "name": "stdout",
     "output_type": "stream",
     "text": [
      "[1, 1, 1, 3]\n",
      "[2, 2, 2, 6]\n",
      "[3, 3, 3, 9]\n",
      "[4, 4, 4, 12]\n"
     ]
    }
   ],
   "source": [
    "matriz = [ \n",
    "    [1, 1, 1, 3],\n",
    "    [2, 2, 2, 7],\n",
    "    [3, 3, 3, 9],\n",
    "    [4, 4, 4, 13]\n",
    "]\n",
    "\n",
    "# Completar o exercício aqui\n",
    "\n",
    "for i in matriz:\n",
    "    i.append(sum(i[:3]))\n",
    "    i.pop(3)\n",
    "    print(i)\n",
    "\n",
    "\n",
    "\n",
    "\n",
    "\n",
    "\n",
    "\n",
    "\n",
    "#TERMINARRRR"
   ]
  },
  {
   "cell_type": "markdown",
   "metadata": {},
   "source": [
    "**6) Supor que obtemos uma cadeia de texto corrupta, ao contrário. Esta cadeia contém o número e a nota de um aluno. Formatar essa cadeia para obter o seguinte formato:**\n",
    "\n",
    "* ***Nome Apelido*** teve um(a) ***Nota*** de nota\n",
    "\n",
    "*Pista: Para voltar uma cadena usando técnicas de slicing pode-se utilizar um terceiro índice -1: cadeia[::-1]*"
   ]
  },
  {
   "cell_type": "code",
   "execution_count": 39,
   "metadata": {},
   "outputs": [
    {
     "name": "stdout",
     "output_type": "stream",
     "text": [
      "Carlos Perez teve um(a) 10 de nota. "
     ]
    }
   ],
   "source": [
    "cadeia = \"zereP solraC,01\"\n",
    "\n",
    "# Completar o exercício aqui\n",
    "\n",
    "\n",
    "def my_func(x):\n",
    "    return x [::-1]\n",
    "\n",
    "mytxt = my_func(cadeia)\n",
    "\n",
    "def stringToList(string):\n",
    "    listRes = list(string.split(','))\n",
    "    return listRes\n",
    "\n",
    "lsit= stringToList(mytxt)\n",
    "print (lsit[1],'teve um(a)', lsit[0],'de nota.',end=' ')\n",
    "\n"
   ]
  },
  {
   "cell_type": "markdown",
   "metadata": {},
   "source": [
    "**7) Fazer um programa que cumpra as seguintes instruções:**\n",
    "\n",
    "* Criar um conjunto chamado utilizadores com os utilizadores Marta, David, Elvira, Juan e Marcos \n",
    "* Criar um conjunto chamado administradores com os administradores Juan e Marta.\n",
    "* Apagar o administrador Juan do conjunto de administradores.\n",
    "* Adicionar Marcos como um novo administrador, mas não o apagar do conjunto de utilizadores.\n",
    "* Mostrar todos os utilizadores por ecrã de forma dinâmica, além de dever indicar cada utilizador se é administrador ou não.\n",
    "\n",
    "*Notas: os conjuntos podem recorrer-se dinamicamente utilizando o ciclo for de forma semelhante a uma lista. Também contam com um método chamado **.discard(elemento)** que serve para apagar um elemento.* "
   ]
  },
  {
   "cell_type": "code",
   "execution_count": 67,
   "metadata": {},
   "outputs": [
    {
     "name": "stdout",
     "output_type": "stream",
     "text": [
      "Marta True\n",
      "David False\n",
      "Elvira False\n",
      "Juan False\n",
      "Marcos True\n"
     ]
    }
   ],
   "source": [
    "# Completar o exercício aqui\n",
    "users = ['marta','david', 'elvira','juan','marcos']\n",
    "administradores = [users[0],users[3]]\n",
    "administradores.remove(users[3])\n",
    "administradores.append(users[4])\n",
    "i = len(users)\n",
    "for user in users:\n",
    "    if user in administradores:\n",
    "        print(user.capitalize(), user in administradores)\n",
    "    else : print (user.capitalize(), user in administradores)\n"
   ]
  },
  {
   "cell_type": "markdown",
   "metadata": {},
   "source": [
    "**8) Fazer um programa baseado num videojogo que tem determinados jogadores com características a nível 2 de forma pré\u0002determinada. Devem-se cumprir as seguintes condições:**\n",
    "\n",
    "* O cavaleiro tem o dobro de vida e defesa que um guerreiro.\n",
    "* O guerreiro tem o dobro de ataque e alcance que um cavaleiro.\n",
    "* O arqueiro tem a mesma vida e ataque que um guerreiro, mas metade da sua defesa e o dobro do seu alcance. \n",
    "* Mostrar como ficam as propriedades das três personagens."
   ]
  },
  {
   "cell_type": "code",
   "execution_count": 85,
   "metadata": {},
   "outputs": [
    {
     "name": "stdout",
     "output_type": "stream",
     "text": [
      "cavaleiro {'vida': 4, 'ataque': 2, 'defesa': 4, 'alcance': 2}\n",
      "guerreiro {'vida': 2, 'ataque': 4, 'defesa': 2, 'alcance': 4}\n",
      "arqueiro {'vida': 2, 'ataque': 2, 'defesa': 1, 'alcance': 2}\n"
     ]
    }
   ],
   "source": [
    "cavaleiro = { 'vida':2, 'ataque':2, 'defesa': 2, 'alcance':2 }\n",
    "guerreiro = { 'vida':2, 'ataque':2, 'defesa': 2, 'alcance':2 }\n",
    "arqueiro  = { 'vida':2, 'ataque':2, 'defesa': 2, 'alcance':2 }\n",
    "\n",
    "# Completar o exercício aqui\n",
    "\n",
    "cavaleiro ['vida'] = guerreiro['vida']*2\n",
    "cavaleiro ['defesa'] = guerreiro['defesa']*2\n",
    "guerreiro['ataque'] = cavaleiro['ataque']*2\n",
    "guerreiro['alcance']= cavaleiro['alcance']*2\n",
    "arqueiro['ataque'] == guerreiro['ataque']\n",
    "arqueiro['vida'] == guerreiro['vida']\n",
    "arqueiro['defesa'] = int(guerreiro ['defesa']/2)\n",
    "arqueiro ['alcance'] = int(guerreiro ['alcance']/2)\n",
    "\n",
    "print ('cavaleiro',cavaleiro)\n",
    "print ('guerreiro',guerreiro)\n",
    "print ('arqueiro',arqueiro)"
   ]
  },
  {
   "cell_type": "code",
   "execution_count": null,
   "metadata": {},
   "outputs": [],
   "source": []
  }
 ],
 "metadata": {
  "anaconda-cloud": {},
  "kernelspec": {
   "display_name": "Python 3",
   "language": "python",
   "name": "python3"
  },
  "language_info": {
   "codemirror_mode": {
    "name": "ipython",
    "version": 3
   },
   "file_extension": ".py",
   "mimetype": "text/x-python",
   "name": "python",
   "nbconvert_exporter": "python",
   "pygments_lexer": "ipython3",
   "version": "3.10.1"
  }
 },
 "nbformat": 4,
 "nbformat_minor": 1
}
