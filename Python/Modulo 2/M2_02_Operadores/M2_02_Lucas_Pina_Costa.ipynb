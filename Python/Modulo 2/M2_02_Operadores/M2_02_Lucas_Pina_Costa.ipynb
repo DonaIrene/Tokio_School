{
 "cells": [
  {
   "cell_type": "markdown",
   "metadata": {},
   "source": [
    "# Exercícios Módulo 2. Operadores\n",
    "\n",
    "Considerações a ter em conta:\n",
    "\n",
    "- Guardar este documento com o seguinte formato para entrega: __M2_02_nome_apelido1_apelido2__ \n",
    "- Fazer os exercícios com as ferramentas vistas nas sessões. Ainda não chegámos às condicionais nem ciclos \n",
    "- Comentar o código\n",
    "- Utilizar nomes de variáveis apropriados, se vai guardar uma nota, chamar a essa variável nota, não n ou x\n"
   ]
  },
  {
   "cell_type": "markdown",
   "metadata": {},
   "source": [
    "## Exercícios de operadores e expressões"
   ]
  },
  {
   "cell_type": "markdown",
   "metadata": {},
   "source": [
    "**1)  Armazenar 3 variáveis com 3 notas numéricas e fazer a média aritmética. Mostrar o resultado final com uma mensagem como esta: “A nota média é 6,0”**"
   ]
  },
  {
   "cell_type": "code",
   "execution_count": 16,
   "metadata": {},
   "outputs": [
    {
     "name": "stdout",
     "output_type": "stream",
     "text": [
      "A nota média é 7.7 "
     ]
    }
   ],
   "source": [
    "# Completar o exercício aqui\n",
    "var1 = 5\n",
    "var2 = 9\n",
    "var3 = 9\n",
    "\n",
    "media = (var1+var2+var3)/3\n",
    "media_float = \"{:.1f}\".format(media)\n",
    "\n",
    "print ('A nota média é',media_float,end=' ')"
   ]
  },
  {
   "cell_type": "markdown",
   "metadata": {},
   "source": [
    "**2) Continuar o exercício anterior. Cada nota tem o valor percentual seguinte:**\n",
    "\n",
    "* 1ª nota: vale 15% do total \n",
    "* 2ª nota: vale 35% do total \n",
    "* 3ª nota: vale 50% do total\n",
    "\n",
    "**Calcular a nota média final.**"
   ]
  },
  {
   "cell_type": "code",
   "execution_count": 46,
   "metadata": {},
   "outputs": [
    {
     "name": "stdout",
     "output_type": "stream",
     "text": [
      "A nota media e 2.0 "
     ]
    }
   ],
   "source": [
    "nota_1 = 10 * 0.15\n",
    "nota_2 = 7 * 0.35\n",
    "nota_3 = 4 * 0.5\n",
    "\n",
    "media = (nota_1+nota_2+nota_3)/3\n",
    "media_float = \"{:.1f}\".format(media)\n",
    "\n",
    "\n",
    "print ('A nota media e', media_float, end = ' ')\n",
    "\n",
    "# Completar o exercício aqui\n"
   ]
  },
  {
   "cell_type": "markdown",
   "metadata": {},
   "source": [
    "**3)  Ler 2 números por teclado e avaliar de forma booleana (True ou False) os seguintes aspetos:**\n",
    "\n",
    "* Se os dois números são iguais\n",
    "* Se os dois números são diferentes\n",
    "* Se o primeiro é maior que o segundo\n",
    "* Se o segundo é maior ou igual ao primeiro"
   ]
  },
  {
   "cell_type": "code",
   "execution_count": 28,
   "metadata": {},
   "outputs": [
    {
     "name": "stdout",
     "output_type": "stream",
     "text": [
      "Os dois numeros sao iguais: False\n",
      "Os dois numeros sao diferentes: True\n",
      "O primeiro numero e maior que o segundo: True\n",
      "O Segundo e maior ou igual ao primeiro: False"
     ]
    }
   ],
   "source": [
    "# Completar o exercício aqui\n",
    "input_a = input()\n",
    "input_b = input()\n",
    "\n",
    "info_1 = (input_a == input_b)\n",
    "info_2 = (input_a != input_b)\n",
    "info_3 = (input_a > input_b)\n",
    "info_4 = (input_a <= input_b)\n",
    "\n",
    "\n",
    "print ('Os dois numeros sao iguais:',info_1)\n",
    "print ('Os dois numeros sao diferentes:',info_2)\n",
    "print ('O primeiro numero e maior que o segundo:',info_3)\n",
    "print ('O Segundo e maior ou igual ao primeiro:',info_4,end='')\n"
   ]
  },
  {
   "cell_type": "markdown",
   "metadata": {},
   "source": [
    "**4) Ler uma cadeia de texto introduzida pelo teclado e avaliar se tem um comprimento maior ou igual a três e menor que dez (mostrar unicamente True ou False) Pista: utilizar operadores lógicos**"
   ]
  },
  {
   "cell_type": "code",
   "execution_count": 39,
   "metadata": {},
   "outputs": [
    {
     "data": {
      "text/plain": [
       "True"
      ]
     },
     "execution_count": 39,
     "metadata": {},
     "output_type": "execute_result"
    }
   ],
   "source": [
    "# Completar o exercício aqui\n",
    "texto_1 = input()\n",
    "len(texto_1) >= 3 and len(texto_1)< 10"
   ]
  },
  {
   "cell_type": "markdown",
   "metadata": {},
   "source": [
    "**5) Transcrever o seguinte algoritmo (utilizar operadores de atribuição sempre que possa):**\n",
    "\n",
    "* Guardar numa variável o número_mágico o valor 12345679 (sem o 8)\n",
    "* Ler por ecrã outro número_utilizador, especificar que seja entre 1 e 9 (assegurar que seja inteiro) \n",
    "* Multiplicar o número_utilizador por 9 por si mesmo\n",
    "* Multiplicar o número_mágico pelo número_utilizador por si mesmo \n",
    "* Finalmente mostrar o valor final do número_mágico por ecrã"
   ]
  },
  {
   "cell_type": "code",
   "execution_count": 45,
   "metadata": {},
   "outputs": [
    {
     "data": {
      "text/plain": [
       "222222222"
      ]
     },
     "execution_count": 45,
     "metadata": {},
     "output_type": "execute_result"
    }
   ],
   "source": [
    "# Completar o exercício aqui\n",
    "numero_magico = 12345679\n",
    "numero_utilizador = int(2)\n",
    "numero_utilizador *= 9 \n",
    "numero_magico *= numero_utilizador\n",
    "numero_magico\n"
   ]
  }
 ],
 "metadata": {
  "anaconda-cloud": {},
  "kernelspec": {
   "display_name": "Python 3",
   "language": "python",
   "name": "python3"
  },
  "language_info": {
   "codemirror_mode": {
    "name": "ipython",
    "version": 3
   },
   "file_extension": ".py",
   "mimetype": "text/x-python",
   "name": "python",
   "nbconvert_exporter": "python",
   "pygments_lexer": "ipython3",
   "version": "3.9.7"
  }
 },
 "nbformat": 4,
 "nbformat_minor": 1
}
