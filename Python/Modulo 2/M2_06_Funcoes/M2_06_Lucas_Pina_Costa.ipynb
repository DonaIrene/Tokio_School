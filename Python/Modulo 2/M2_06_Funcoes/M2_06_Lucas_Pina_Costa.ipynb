{
 "cells": [
  {
   "cell_type": "markdown",
   "metadata": {},
   "source": [
    "# Exercícios Módulo 2. Funções (Soluções)\n",
    "\n",
    "Considerações a ter em conta:\n",
    "\n",
    "* Guardar este documento com o seguinte formato para entrega: M2_06_nome_apelido1_apelido2\n",
    "* Fazer os exercícios com as ferramentas vistas nas sessões. \n",
    "* Comentar o código\n",
    "* Utilizar nomes de variáveis apropriados, se vai guardar uma nota, chamar a essa variável nota, não n ou x"
   ]
  },
  {
   "cell_type": "markdown",
   "metadata": {},
   "source": [
    "**1) Fazer uma função que devolva a área de um retângulo a partir da sua base e a sua altura. A função irá chamar\u0002se área_retângulo(). A base e a altura irão pedir-se ao utilizador por teclado.**\n",
    "\n",
    "*Nota: a área de um retângulo obtém-se ao multiplicar a base pela altura.*"
   ]
  },
  {
   "cell_type": "code",
   "execution_count": 2,
   "metadata": {},
   "outputs": [
    {
     "name": "stdout",
     "output_type": "stream",
     "text": [
      "12.0\n"
     ]
    }
   ],
   "source": [
    "# Completar o exercício aqui\n",
    "def area_triangulo():\n",
    "    base = float(input(\"lado do triangulo:\"))\n",
    "    altura = float(input(\"Altura do triangulo:\"))\n",
    "\n",
    "    area_triangulo = base * altura\n",
    "    print (area_triangulo)\n",
    "\n",
    "area_triangulo()\n"
   ]
  },
  {
   "cell_type": "markdown",
   "metadata": {},
   "source": [
    "**2) Fazer uma função que devolva a área de um círculo a partir de um raio. A função irá chamar-se área_círculo(). O raio irá pedir-se ao utilizador por teclado:**\n",
    "\n",
    "Nota: a área de um círculo obtém-se ao elevar o raio a dois e multiplicando o resultado pelo número pi. Pode utilizar o valor 3,14159 como pi ou importá-lo do módulo math:\n",
    "```python\n",
    "import math\n",
    "print(math.pi)\n",
    "> 3.1415...\n",
    "```"
   ]
  },
  {
   "cell_type": "code",
   "execution_count": 3,
   "metadata": {},
   "outputs": [
    {
     "name": "stdout",
     "output_type": "stream",
     "text": [
      "28.274333882308138\n"
     ]
    }
   ],
   "source": [
    "import math\n",
    "# Completar o exercício aqui\n",
    "def area_circulo():\n",
    "    raio = float(input(\"Insira o raio:\"))\n",
    "    area_circulo = (raio **2) * math.pi\n",
    "    print(area_circulo)\n",
    "\n",
    "area_circulo()\n",
    "\n"
   ]
  },
  {
   "cell_type": "markdown",
   "metadata": {},
   "source": [
    "**3)  Fazer uma função que a partir de dois números que se solicitam por teclado ao utilizador e que se irá chamar relação(), cumpra o seguinte:**\n",
    "\n",
    "* Se o primeiro número é maior que o segundo, deve devolver 1\n",
    "* Se o primeiro número é menor que o segundo, deve devolver -1\n",
    "* Se ambos números são iguais, deve devolver um 0\n",
    "\n",
    "**Comprovar a relação entre os números: '5 e 10', '10 e 5' e '5 e 5'**"
   ]
  },
  {
   "cell_type": "code",
   "execution_count": 8,
   "metadata": {},
   "outputs": [
    {
     "name": "stdout",
     "output_type": "stream",
     "text": [
      "0\n"
     ]
    }
   ],
   "source": [
    "# Completar o exercício aqui\n",
    "def relacao():\n",
    "    numero_1= int(input(\"Numero 1:\"))\n",
    "    numero_2= int(input(\"Numero 2:\"))\n",
    "\n",
    "    if numero_1 > numero_2:\n",
    "        print('1')\n",
    "    elif numero_1 < numero_2:\n",
    "        print('-1')\n",
    "    elif numero_1 == numero_2:\n",
    "        print('0')\n",
    "\n",
    "relacao()\n"
   ]
  },
  {
   "cell_type": "markdown",
   "metadata": {},
   "source": [
    "**4) Fazer uma função chamada ler_número() que solicite e leia por teclado um número. Utilizar esta função para pedir ao utilizador 3 números. Logo passar estes 3 números para uma função que se chame maior() que tenha 3 parâmetros e que devolva o número maior dos 3:**"
   ]
  },
  {
   "cell_type": "code",
   "execution_count": 58,
   "metadata": {},
   "outputs": [
    {
     "data": {
      "text/plain": [
       "[]"
      ]
     },
     "execution_count": 58,
     "metadata": {},
     "output_type": "execute_result"
    }
   ],
   "source": [
    "# Completar o exercício aqui\n",
    "\n",
    "def ler_numero(ler_numero):\n",
    "    ler_numero = []\n",
    "\n",
    "    contagem = 0\n",
    "   \n",
    "    while contagem <= 2:\n",
    "        contagem += 1\n",
    "        numeros = (int(input(\"insira um numero:\")))\n",
    "        ler_numero.append(numeros)\n",
    "        if contagem== 3:\n",
    "            return ler_numero\n",
    "\n",
    "def maior(maior):\n",
    "    maior = ler_numero(ler_numero)\n",
    "    for i in maior:\n",
    "        maior.sort()\n",
    "        if i in maior[3:]:\n",
    "            print(i)\n",
    "        \n",
    "    return maior[3:]\n",
    "    \n",
    "    \n",
    "maior(maior)\n",
    "            "
   ]
  },
  {
   "cell_type": "markdown",
   "metadata": {},
   "source": [
    "**5) Fazer uma função chamada imc(). Esta função nos irá proporcionar o estado nutricional de uma pessoa. Ou seja; a classificação de seu índice de massa corporal (IMC), segundo a tabela proporcionada. A função irá receber o peso (em quilos) e o tamanho de uma pessoa (em metros com dois decimais), dados a partir dos quais se pode calcular o IMC como:**\n",
    "\n",
    "IMC = peso / (altura * altura) \n",
    "\n",
    "Classificação: IMC (Kg/m^2)\n",
    "* Peso baixo: < 18,50 \n",
    "* Normal: (18,50, 25,00)\n",
    "* Sobrepeso: >= 25,00\n",
    "* Obesidade: >= 30,00"
   ]
  },
  {
   "cell_type": "code",
   "execution_count": 5,
   "metadata": {},
   "outputs": [],
   "source": [
    "# Completar o exercício aqui\n"
   ]
  }
 ],
 "metadata": {
  "anaconda-cloud": {},
  "kernelspec": {
   "display_name": "Python 3",
   "language": "python",
   "name": "python3"
  },
  "language_info": {
   "codemirror_mode": {
    "name": "ipython",
    "version": 3
   },
   "file_extension": ".py",
   "mimetype": "text/x-python",
   "name": "python",
   "nbconvert_exporter": "python",
   "pygments_lexer": "ipython3",
   "version": "3.10.1"
  }
 },
 "nbformat": 4,
 "nbformat_minor": 1
}
