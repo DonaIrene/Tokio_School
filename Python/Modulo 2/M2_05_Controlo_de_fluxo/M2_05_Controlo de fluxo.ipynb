{
 "cells": [
  {
   "cell_type": "markdown",
   "metadata": {},
   "source": [
    "# Exercícios Módulo 2. Controlo de fluxo (Soluções)\n",
    "\n",
    "Considerações a ter em conta:\n",
    "\n",
    "* Guardar este documento com o seguinte formato para entrega: __M2_05_nome_apelido1_apelido2__\n",
    "* Fazer os exercícios com as ferramentas vistas nas sessões. \n",
    "* Comentar o código\n",
    "* Utilizar nomes de variáveis apropriados, se vai guardar uma nota, chamar a essa variável nota, não n ou x"
   ]
  },
  {
   "cell_type": "markdown",
   "metadata": {},
   "source": [
    "## Exercícios de controlo de fluxo"
   ]
  },
  {
   "cell_type": "markdown",
   "metadata": {},
   "source": [
    "**1) Fazer um programa que leia três números por teclado e permitir avaliar o seguinte:** \n",
    "\n",
    "* Se os números estão por ordem ascendente\n",
    "* Se os números não estão por ordem ascendente\n",
    "* Se há um erro devido a que o primeiro número introduzido é 0"
   ]
  },
  {
   "cell_type": "code",
   "execution_count": 34,
   "metadata": {},
   "outputs": [
    {
     "name": "stdout",
     "output_type": "stream",
     "text": [
      "[34]\n",
      "[34, 123]\n",
      "[34, 123, 34]\n"
     ]
    }
   ],
   "source": [
    "# Completar o exercício aqui\n",
    "numeros = []\n",
    "\n",
    "while numeros <= numeros[:2]:\n",
    "    numeros.append(int (input()))\n",
    "    print (numeros)\n",
    "\n",
    "if numeros[0] == 0:\n",
    "    print('Erro!\\nPrimeiro numero = 0',end='\\n')\n",
    "\n",
    "if numeros == sorted(numeros):\n",
    "    print(numeros is not sorted)\n",
    "    print('Ordem Ascendente',end='\\n')\n",
    "\n",
    "if numeros == sorted(numeros,reverse=True):\n",
    "    print(numeros is not sorted(numeros,reverse=True))\n",
    "    print('Ordem Descendente',end='\\n')\n",
    "\n",
    "    \n",
    "\n"
   ]
  },
  {
   "cell_type": "markdown",
   "metadata": {},
   "source": [
    "**2) Fazer um programa que realize o somatório dos primeiros N números, começando em 0, e sendo N o número limite que o utilizador proporciona por teclado:** \n",
    "* Exemplo de número limite introduzido pelo utilizador: 5\n",
    "* somatório = 0 + 1 + 2 + 3 + 4 (somamos os 5 primeiros números)"
   ]
  },
  {
   "cell_type": "code",
   "execution_count": 2,
   "metadata": {},
   "outputs": [],
   "source": [
    "# Completar o exercício aqui"
   ]
  },
  {
   "cell_type": "markdown",
   "metadata": {},
   "source": [
    "**3) Fazer um programa que leia dois números por teclado e mostre o seguinte menu:** \n",
    "\n",
    "* Mostrar uma soma dos dois números\n",
    "* Mostrar um resto dos dois números (o primeiro menos o segundo) \n",
    "* Mostrar uma multiplicação dos dois números\n",
    "* Em caso de não introduzir uma opção válida, o programa irá informar que não é correta"
   ]
  },
  {
   "cell_type": "code",
   "execution_count": 4,
   "metadata": {},
   "outputs": [],
   "source": [
    "# Completar o exercício aqui"
   ]
  },
  {
   "cell_type": "markdown",
   "metadata": {},
   "source": [
    "**4) Fazer um programa que leia letras e conte com uma variável contadora as letras “a” que se introduzem. Para sair do programa, introduzir o carácter “.”. Ao finalizar mostrar o número de vezes que se pressionou a letra “a”**"
   ]
  },
  {
   "cell_type": "code",
   "execution_count": 5,
   "metadata": {},
   "outputs": [],
   "source": [
    "# Completar o exercício aqui"
   ]
  },
  {
   "cell_type": "markdown",
   "metadata": {},
   "source": [
    "**5)  Fazer um programa que leia por teclado um número ímpar. Deve repetir-se o processo enquanto o utilizador continue a introduzir números ímpares. Quando introduzir um número par, o programa irá parar.**"
   ]
  },
  {
   "cell_type": "code",
   "execution_count": 6,
   "metadata": {},
   "outputs": [],
   "source": [
    "# Completar o exercício aqui"
   ]
  },
  {
   "cell_type": "markdown",
   "metadata": {},
   "source": [
    "**6) Fazer um programa que some todos os números pares desde 0 até 100:**\n",
    "\n",
    "*Sugestão: pode utilizar as funções sum() e range() para o tornar mais fácil. O terceiro parâmetro na função range (início, fim, salto) indica um salto de números, experimente-o*"
   ]
  },
  {
   "cell_type": "code",
   "execution_count": 7,
   "metadata": {},
   "outputs": [],
   "source": [
    "# Completar o exercício aqui"
   ]
  },
  {
   "cell_type": "markdown",
   "metadata": {},
   "source": [
    "**7)  Fazer um programa que solicite ao utilizador um número que representa o total de números que se vão introduzir. Posteriormente, ler todos esses números e fazer a média aritmética de todos eles:**"
   ]
  },
  {
   "cell_type": "code",
   "execution_count": 8,
   "metadata": {},
   "outputs": [],
   "source": [
    "# Completar o exercício aqui"
   ]
  },
  {
   "cell_type": "markdown",
   "metadata": {},
   "source": [
    "**8) Fazer um programa que solicite ao utilizador um número inteiro de 0 a 9, e que enquanto o número não seja correto se repita o processo. Logo deve comprovar se o número se encontra na lista de números e notificá-lo:**\n",
    "\n",
    "*Conselho: a sintaxis “valor in lista” permite comprovar facilmente se um valor se encontra numa lista (devolver True ou False)*"
   ]
  },
  {
   "cell_type": "code",
   "execution_count": 9,
   "metadata": {},
   "outputs": [],
   "source": [
    "# Completar o exercício aqui\n",
    "numeros = [1, 3, 6, 9]"
   ]
  },
  {
   "cell_type": "markdown",
   "metadata": {},
   "source": [
    "**9) Fazer um programa que utilize a função range() e a conversão para listas gera as seguintes listas dinamicamente (e mostrá-las com print):**\n",
    "\n",
    "* Todos os números de 0 a 10 [0, 1, 2, ..., 10]\n",
    "* Todos os números de -10 a 0 [-10, -9, -8, ..., 0]\n",
    "* Todos os números pares de 0 a 20 [0, 2, 4, ..., 20]\n",
    "* Todos os números ímpares entre -20 e 0 [-19, -17, -15, ..., -1]\n",
    "* Todos os números múltiplos de 5 a 50 [0, 5, 10, ..., 50]\n",
    "\n",
    "*Pista: utilizar o terceiro parâmetro da função range (início, fim, salto).*"
   ]
  },
  {
   "cell_type": "code",
   "execution_count": 10,
   "metadata": {},
   "outputs": [],
   "source": [
    "# Completar o exercício aqui"
   ]
  },
  {
   "cell_type": "markdown",
   "metadata": {},
   "source": [
    "**10) Fazer um programa que dadas duas listas, gera uma terceira lista com todos os elementos que se repitam nelas, mas não deve repetir-se nenhum elemento na nova lista:**"
   ]
  },
  {
   "cell_type": "code",
   "execution_count": 11,
   "metadata": {},
   "outputs": [],
   "source": [
    "# Completar o exercício aqui\n",
    "lista_1 = [\"o\",'l','a',' ', 'm','u','n','d','o']\n",
    "lista_2 = [\"o\",'l','a',' ', 'l','u','a'] \n",
    "lista_3 = []"
   ]
  }
 ],
 "metadata": {
  "anaconda-cloud": {},
  "kernelspec": {
   "display_name": "Python 3",
   "language": "python",
   "name": "python3"
  },
  "language_info": {
   "codemirror_mode": {
    "name": "ipython",
    "version": 3
   },
   "file_extension": ".py",
   "mimetype": "text/x-python",
   "name": "python",
   "nbconvert_exporter": "python",
   "pygments_lexer": "ipython3",
   "version": "3.10.1"
  }
 },
 "nbformat": 4,
 "nbformat_minor": 1
}
