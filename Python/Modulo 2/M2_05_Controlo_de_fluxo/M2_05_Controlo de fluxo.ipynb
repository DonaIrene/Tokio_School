{
 "cells": [
  {
   "cell_type": "markdown",
   "metadata": {},
   "source": [
    "# Exercícios Módulo 2. Controlo de fluxo (Soluções)\n",
    "\n",
    "Considerações a ter em conta:\n",
    "\n",
    "* Guardar este documento com o seguinte formato para entrega: __M2_05_nome_apelido1_apelido2__\n",
    "* Fazer os exercícios com as ferramentas vistas nas sessões. \n",
    "* Comentar o código\n",
    "* Utilizar nomes de variáveis apropriados, se vai guardar uma nota, chamar a essa variável nota, não n ou x"
   ]
  },
  {
   "cell_type": "markdown",
   "metadata": {},
   "source": [
    "## Exercícios de controlo de fluxo"
   ]
  },
  {
   "cell_type": "markdown",
   "metadata": {},
   "source": [
    "**1) Fazer um programa que leia três números por teclado e permitir avaliar o seguinte:** \n",
    "\n",
    "* Se os números estão por ordem ascendente\n",
    "* Se os números não estão por ordem ascendente\n",
    "* Se há um erro devido a que o primeiro número introduzido é 0"
   ]
  },
  {
   "cell_type": "code",
   "execution_count": 82,
   "metadata": {},
   "outputs": [
    {
     "name": "stdout",
     "output_type": "stream",
     "text": [
      "Erro!\n",
      "Primeiro numero = 0\n"
     ]
    }
   ],
   "source": [
    "# Completar o exercício aqui\n",
    "numeros = []\n",
    "\n",
    "while numeros <= numeros[:2]:\n",
    "    numeros.append(int (input()))\n",
    "\n",
    "    if numeros[0] == 0:\n",
    "        print('Erro!\\nPrimeiro numero = 0',end='\\n')\n",
    "        break\n",
    "    if numeros == sorted(numeros):\n",
    "    #   print(numeros is not sorted)\n",
    "        print('Ordem Ascendente',end='\\n')\n",
    "\n",
    "    if numeros == sorted(numeros,reverse=True):\n",
    "    #   print(numeros is not sorted(numeros,reverse=True))\n",
    "        print('Ordem Descendente',end='\\n')\n",
    "\n",
    "    print (numeros)\n",
    "    \n",
    "\n"
   ]
  },
  {
   "cell_type": "markdown",
   "metadata": {},
   "source": [
    "**2) Fazer um programa que realize o somatório dos primeiros N números, começando em 0, e sendo N o número limite que o utilizador proporciona por teclado:** \n",
    "* Exemplo de número limite introduzido pelo utilizador: 5\n",
    "* somatório = 0 + 1 + 2 + 3 + 4 (somamos os 5 primeiros números)"
   ]
  },
  {
   "cell_type": "code",
   "execution_count": 9,
   "metadata": {},
   "outputs": [
    {
     "name": "stdout",
     "output_type": "stream",
     "text": [
      "[0, 1, 2] = 3\n"
     ]
    }
   ],
   "source": [
    "# Completar o exercício aqui\n",
    "n= int(input())\n",
    "somatorio = []\n",
    "\n",
    "while 0 < n:\n",
    "    n-=1\n",
    "    somatorio.append(n)\n",
    "    somatorio.sort()\n",
    "    \n",
    "\n",
    "print(somatorio,\"=\",sum (somatorio))\n",
    "\n"
   ]
  },
  {
   "cell_type": "markdown",
   "metadata": {},
   "source": [
    "**3) Fazer um programa que leia dois números por teclado e mostre o seguinte menu:** \n",
    "\n",
    "* Mostrar uma soma dos dois números\n",
    "* Mostrar um resto dos dois números (o primeiro menos o segundo) \n",
    "* Mostrar uma multiplicação dos dois números\n",
    "* Em caso de não introduzir uma opção válida, o programa irá informar que não é correta"
   ]
  },
  {
   "cell_type": "code",
   "execution_count": 48,
   "metadata": {},
   "outputs": [
    {
     "name": "stdout",
     "output_type": "stream",
     "text": [
      "O primeiro numero nao e valido."
     ]
    }
   ],
   "source": [
    "# Completar o exercício aqui\n",
    "\n",
    "n1 = input()\n",
    "n2 = input()\n",
    "\n",
    "if n1.isnumeric():\n",
    "    n1 = float(n1)\n",
    "    if n2.isnumeric():\n",
    "        n2 = float(n2)\n",
    "        soma = n1 + n2\n",
    "        resto = n1 - n2\n",
    "        multi = n1 * n2\n",
    "        print (\"Soma:\",soma,\"\\nResto:\", resto,\"\\nMultiplicacao:\", multi, sep='\\n')\n",
    "    else:\n",
    "        print(\"O segundo numero nao e valido\",end='.')\n",
    "    \n",
    "else:\n",
    "    print(\"O primeiro numero nao e valido\",end='.')\n",
    "    \n",
    "    \n",
    "\n",
    "\n"
   ]
  },
  {
   "cell_type": "markdown",
   "metadata": {},
   "source": [
    "**4) Fazer um programa que leia letras e conte com uma variável contadora as letras “a” que se introduzem. Para sair do programa, introduzir o carácter “.”. Ao finalizar mostrar o número de vezes que se pressionou a letra “a”**"
   ]
  },
  {
   "cell_type": "code",
   "execution_count": 4,
   "metadata": {},
   "outputs": [
    {
     "name": "stdout",
     "output_type": "stream",
     "text": [
      "a= 5\n",
      "Interronpido\n"
     ]
    }
   ],
   "source": [
    "# Completar o exercício aqui\n",
    "from itertools import count\n",
    "\n",
    "contador = 0\n",
    "frase = input(\"Frase:\")\n",
    "for i in count():\n",
    "    for caracter in frase:\n",
    "        if (caracter == 'a') or (caracter == 'A'):\n",
    "            contador+=1\n",
    "    print (\"a=\",contador)    \n",
    "    if(caracter == '.'):\n",
    "            print(\"Interronpido\")\n",
    "            break  \n",
    "    \n"
   ]
  },
  {
   "cell_type": "markdown",
   "metadata": {},
   "source": [
    "**5)  Fazer um programa que leia por teclado um número ímpar. Deve repetir-se o processo enquanto o utilizador continue a introduzir números ímpares. Quando introduzir um número par, o programa irá parar.**"
   ]
  },
  {
   "cell_type": "code",
   "execution_count": 74,
   "metadata": {},
   "outputs": [
    {
     "name": "stdout",
     "output_type": "stream",
     "text": [
      "impar\n",
      "impar\n",
      "impar\n",
      "impar\n",
      "impar\n",
      "impar\n",
      "impar\n",
      "impar\n",
      "impar\n",
      "impar\n",
      "par\n"
     ]
    }
   ],
   "source": [
    "# Completar o exercício aqui\n",
    "on = True\n",
    "while on == True:\n",
    "    n = int(input())\n",
    "    if(n%2) != 0:\n",
    "        print(\"impar\")\n",
    "    if (n%2)==0:\n",
    "        print(\"par\")\n",
    "        on = False\n",
    "        break\n"
   ]
  },
  {
   "cell_type": "markdown",
   "metadata": {},
   "source": [
    "**6) Fazer um programa que some todos os números pares desde 0 até 100:**\n",
    "\n",
    "*Sugestão: pode utilizar as funções sum() e range() para o tornar mais fácil. O terceiro parâmetro na função range (início, fim, salto) indica um salto de números, experimente-o*"
   ]
  },
  {
   "cell_type": "code",
   "execution_count": 38,
   "metadata": {},
   "outputs": [
    {
     "name": "stdout",
     "output_type": "stream",
     "text": [
      "par:[0, 2, 4, 6, 8, 10, 12, 14, 16, 18, 20, 22, 24, 26, 28, 30, 32, 34, 36, 38, 40, 42, 44, 46, 48, 50, 52, 54, 56, 58, 60, 62, 64, 66, 68, 70, 72, 74, 76, 78, 80, 82, 84, 86, 88, 90, 92, 94, 96, 98, 100]\n",
      "impar:[1, 3, 5, 7, 9, 11, 13, 15, 17, 19, 21, 23, 25, 27, 29, 31, 33, 35, 37, 39, 41, 43, 45, 47, 49, 51, 53, 55, 57, 59, 61, 63, 65, 67, 69, 71, 73, 75, 77, 79, 81, 83, 85, 87, 89, 91, 93, 95, 97, 99]\n",
      "Somatorio par: 2550\n"
     ]
    }
   ],
   "source": [
    "# Completar o exercício aqui\n",
    "par = []\n",
    "impar = []\n",
    "for i in range(0,101):\n",
    "    if (i%2)==0:\n",
    "        par.append(i)\n",
    "    else:\n",
    "        impar.append(i)\n",
    "\n",
    "    \n",
    "print(\"par\",par, sep=':')\n",
    "print(\"impar\",impar,sep=':')\n",
    "print(\"Somatorio par:\",sum(par))"
   ]
  },
  {
   "cell_type": "markdown",
   "metadata": {},
   "source": [
    "**7)  Fazer um programa que solicite ao utilizador um número que representa o total de números que se vão introduzir. Posteriormente, ler todos esses números e fazer a média aritmética de todos eles:**"
   ]
  },
  {
   "cell_type": "code",
   "execution_count": 123,
   "metadata": {},
   "outputs": [
    {
     "name": "stdout",
     "output_type": "stream",
     "text": [
      "50.0\n"
     ]
    }
   ],
   "source": [
    "# Completar o exercício aqui\n",
    "ns_a_ins = input(\"Quantida de numeros?\")\n",
    "ns_a_ins = int(ns_a_ins)\n",
    "numeros = []\n",
    "while ns_a_ins >0:\n",
    "    ns_a_ins-=1\n",
    "    numeros.append(int(input()))\n",
    "\n",
    "print(sum(numeros)/len(numeros))\n",
    "\n"
   ]
  },
  {
   "cell_type": "markdown",
   "metadata": {},
   "source": [
    "**8) Fazer um programa que solicite ao utilizador um número inteiro de 0 a 9, e que enquanto o número não seja correto se repita o processo. Logo deve comprovar se o número se encontra na lista de números e notificá-lo:**\n",
    "\n",
    "*Conselho: a sintaxis “valor in lista” permite comprovar facilmente se um valor se encontra numa lista (devolver True ou False)*"
   ]
  },
  {
   "cell_type": "code",
   "execution_count": 131,
   "metadata": {},
   "outputs": [
    {
     "name": "stdout",
     "output_type": "stream",
     "text": [
      "4 nao atribuido a lista.\n",
      "2 nao atribuido a lista.\n",
      "Numero nao suportado.\n",
      "Numero nao suportado.\n",
      "9 se encontra na lista.\n"
     ]
    }
   ],
   "source": [
    "# Completar o exercício aqui\n",
    "numeros = [1, 3, 6, 9]\n",
    "valueList = False\n",
    "while valueList == False:\n",
    "    valor = int(input(\"Insira um numero entre 0 a 9:\"))\n",
    "    if valor >=0 and valor <=9:\n",
    "        if valor in numeros:\n",
    "            valueList = True\n",
    "            print(valor,\"se encontra na lista\",end='.\\n')\n",
    "        else:\n",
    "            print(valor, 'nao atribuido a lista',end='.\\n')\n",
    "            continue\n",
    "    else:\n",
    "        print(\"Numero nao suportado\",end='.\\n')\n",
    "\n"
   ]
  },
  {
   "cell_type": "markdown",
   "metadata": {},
   "source": [
    "**9) Fazer um programa que utilize a função range() e a conversão para listas gera as seguintes listas dinamicamente (e mostrá-las com print):**\n",
    "\n",
    "* Todos os números de 0 a 10 [0, 1, 2, ..., 10]\n",
    "* Todos os números de -10 a 0 [-10, -9, -8, ..., 0]\n",
    "* Todos os números pares de 0 a 20 [0, 2, 4, ..., 20]\n",
    "* Todos os números ímpares entre -20 e 0 [-19, -17, -15, ..., -1]\n",
    "* Todos os números múltiplos de 5 a 50 [0, 5, 10, ..., 50]\n",
    "\n",
    "*Pista: utilizar o terceiro parâmetro da função range (início, fim, salto).*"
   ]
  },
  {
   "cell_type": "code",
   "execution_count": 142,
   "metadata": {},
   "outputs": [
    {
     "name": "stdout",
     "output_type": "stream",
     "text": [
      "[0, 1, 2, 3, 4, 5, 6, 7, 8, 9, 10]\n",
      "[-10, -9, -8, -7, -6, -5, -4, -3, -2, -1, 0]\n",
      "[0, 2, 4, 6, 8, 10, 12, 14, 16, 18, 20]\n",
      "[-19, -17, -15, -13, -11, -9, -7, -5, -3, -1]\n",
      "[0, 5, 10, 15, 20, 25, 30, 35, 40, 45, 50]\n"
     ]
    }
   ],
   "source": [
    "# Completar o exercício aqui\n",
    "numeros_0_10 = []\n",
    "numeros__10_0 = []\n",
    "numeros_0_20 = []\n",
    "numeros__20_0 = []\n",
    "numeros_0_50 =[]\n",
    "\n",
    "for i in range(0,11): numeros_0_10.append(i)\n",
    "\n",
    "for i in range(-10,1): numeros__10_0.append(i)\n",
    "\n",
    "for i in range(0,21): \n",
    "    if (i%2)==0: numeros_0_20.append(i)\n",
    "\n",
    "for i in range(-20,1):\n",
    "    if (i%2)!=0: numeros__20_0.append(i)\n",
    "\n",
    "for i in range(0,51): \n",
    "    if (i%5)==0: numeros_0_50.append(i)\n",
    "    \n",
    "print (numeros_0_10,numeros__10_0,numeros_0_20,numeros__20_0,numeros_0_50, sep='\\n')"
   ]
  },
  {
   "cell_type": "markdown",
   "metadata": {},
   "source": [
    "**10) Fazer um programa que dadas duas listas, gera uma terceira lista com todos os elementos que se repitam nelas, mas não deve repetir-se nenhum elemento na nova lista:**"
   ]
  },
  {
   "cell_type": "code",
   "execution_count": 36,
   "metadata": {},
   "outputs": [
    {
     "name": "stdout",
     "output_type": "stream",
     "text": [
      "['l', ' ', 'o', 'u', 'a']\n"
     ]
    }
   ],
   "source": [
    "# Completar o exercício aqui\n",
    "lista_1 = [\"o\",'l','a',' ', 'm','u','n','d','o']\n",
    "lista_2 = [\"o\",'l','a',' ', 'l','u','a'] \n",
    "lista_3 = []\n",
    "\n",
    "for i in lista_1: \n",
    "    if i in lista_2:\n",
    "        lista_3.append(i)\n",
    "for i in lista_2:\n",
    "    if i in lista_1:\n",
    "        lista_3.append(i)\n",
    "        \n",
    "lista_3= list(set(lista_3))\n",
    "\n",
    "\n",
    "print(lista_3)\n",
    "\n",
    "    \n"
   ]
  }
 ],
 "metadata": {
  "anaconda-cloud": {},
  "kernelspec": {
   "display_name": "Python 3",
   "language": "python",
   "name": "python3"
  },
  "language_info": {
   "codemirror_mode": {
    "name": "ipython",
    "version": 3
   },
   "file_extension": ".py",
   "mimetype": "text/x-python",
   "name": "python",
   "nbconvert_exporter": "python",
   "pygments_lexer": "ipython3",
   "version": "3.9.7"
  }
 },
 "nbformat": 4,
 "nbformat_minor": 1
}
