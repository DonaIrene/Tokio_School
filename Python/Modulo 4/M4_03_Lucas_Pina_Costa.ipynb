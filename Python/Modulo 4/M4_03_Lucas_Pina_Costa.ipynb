{
 "cells": [
  {
   "cell_type": "markdown",
   "metadata": {},
   "source": [
    "# Exercícios Módulo 4. Unidade 3. Erros e Exceções (Soluções)\n",
    "\n",
    "Considerações a ter em conta: \n",
    "\n",
    "* Guardar este documento com o seguinte formato para entrega: __M4_03_nome_apelido1_apelido2__\n",
    "* Fazer os exercícios com as ferramentas vistas nas sessões. \n",
    "* Comentar o código\n",
    "* Utilizar nomes de variáveis apropriados, se vai guardar uma nota, chamar a essa variável nota, não n ou x"
   ]
  },
  {
   "cell_type": "markdown",
   "metadata": {},
   "source": [
    "**1)  Localizar o erro no seguinte bloco de código. Criar uma exceção para evitar que o programa se bloqueie e além disso explica numa mensagem ao utilizador a causa e/ou solução:**"
   ]
  },
  {
   "cell_type": "code",
   "execution_count": 36,
   "metadata": {},
   "outputs": [
    {
     "name": "stdout",
     "output_type": "stream",
     "text": [
      "Nao e possivel divir um numero por 0\n"
     ]
    }
   ],
   "source": [
    "# Completar o exercício aqui\n",
    "try:\n",
    "    resultado = 10/0\n",
    "except ZeroDivisionError:\n",
    "    print(\"Nao e possivel divir um numero por 0\")"
   ]
  },
  {
   "cell_type": "markdown",
   "metadata": {},
   "source": [
    "**2)  Localizar o erro no seguinte bloco de código. Criar uma exceção para evitar que o programa se bloqueie e além disso explica numa mensagem ao utilizador a causa e/ou solução:**"
   ]
  },
  {
   "cell_type": "code",
   "execution_count": 13,
   "metadata": {},
   "outputs": [
    {
     "name": "stdout",
     "output_type": "stream",
     "text": [
      "IndexError\n",
      "5\n"
     ]
    }
   ],
   "source": [
    "# Completar o exercício aqui\n",
    "lista = [1, 2, 3, 4, 5]\n",
    "try:\n",
    "    lista[10]\n",
    "except Exception as e:\n",
    "    print(type(e).__name__)\n",
    "    print(lista[-1])"
   ]
  },
  {
   "cell_type": "markdown",
   "metadata": {},
   "source": [
    "**3)  Localizar o erro no seguinte bloco de código. Criar uma exceção para evitar que o programa se bloqueie e além disso explica numa mensagem ao utilizador a causa e/ou solução:**"
   ]
  },
  {
   "cell_type": "code",
   "execution_count": 16,
   "metadata": {},
   "outputs": [
    {
     "name": "stdout",
     "output_type": "stream",
     "text": [
      "A cor desejada nao se encontra no dicionario.\n",
      "Por favor adiciona a cor ao dicionario, ou selecione outra.\n"
     ]
    }
   ],
   "source": [
    "# Completar o exercício aqui\n",
    "cores = { 'vermelho':'red', 'verde':'green', 'preto':'black'  }\n",
    "try:\n",
    "    cores['branco']\n",
    "except: \n",
    "    print(\"A cor desejada nao se encontra no dicionario.\")\n",
    "    print(\"Por favor adiciona a cor ao dicionario, ou selecione outra.\")"
   ]
  },
  {
   "cell_type": "markdown",
   "metadata": {},
   "source": [
    "**4) Localizar o erro no seguinte bloco de código. Criar uma exceção para evitar que o programa se bloqueie e, além disso, explicar numa mensagem ao utilizador a causa e/ou solução:**"
   ]
  },
  {
   "cell_type": "code",
   "execution_count": 23,
   "metadata": {},
   "outputs": [
    {
     "name": "stdout",
     "output_type": "stream",
     "text": [
      "TypeError\n",
      "Nao e possivel somar string a inteiro.\n",
      "\n"
     ]
    }
   ],
   "source": [
    "# Completar o exercício aqui\n",
    "try:\n",
    "    resultado = \"20\" + 15\n",
    "except Exception as e:\n",
    "    print(type(e).__name__)\n",
    "    print('Nao e possivel somar string a inteiro.')"
   ]
  },
  {
   "cell_type": "markdown",
   "metadata": {},
   "source": [
    "**5)  Realizar uma função chamada agregar_uma_vez() que receba uma lista e um elemento. A função deve adicionar o elemento ao final da lista com a condição de não repetir nenhum elemento. Além do mais se este elemento já se encontra na lista deve-se invocar um erro de tipo ValueError que deve capturar e mostrar esta mensagem no seu lugar:**\n",
    "\n",
    "```\n",
    "  Erro: Impossível adicionar elementos duplicados => [elemento].\n",
    "```\n",
    "**Teste agregar os elementos 10, -2, “Olá” à lista de elementos com a função uma vez criou e logo mostra o seu conteúdo**\n",
    "\n",
    "*Pista: Pode utilizar a sintaxis: elemento in lista*"
   ]
  },
  {
   "cell_type": "code",
   "execution_count": 35,
   "metadata": {},
   "outputs": [
    {
     "name": "stdout",
     "output_type": "stream",
     "text": [
      "Erro: Impossivel adicionar elementos duplicados => -2\n",
      "[1, 5, -2, 10, 'ola']\n"
     ]
    }
   ],
   "source": [
    "# Completar o exercício aqui\n",
    "elementos = [1, 5, -2]\n",
    "def agregar_uma_vez(elemento):\n",
    "    try:\n",
    "        for i in elementos:\n",
    "            if elemento in elementos:\n",
    "                raise\n",
    "        else: elementos.append(elemento)\n",
    "\n",
    "    except:\n",
    "        print(f\"Erro: Impossivel adicionar elementos duplicados => {elemento}\")\n",
    "\n",
    "agregar_uma_vez(10)\n",
    "agregar_uma_vez(-2)\n",
    "agregar_uma_vez(\"ola\")\n",
    "print(elementos)"
   ]
  },
  {
   "cell_type": "markdown",
   "metadata": {},
   "source": [
    "**6) Pesquisa na documentação outra exceção que não se utilizou até agora e realiza os seguintes passos:**\n",
    "* Provocar o erro num código de exemplo.\n",
    "* Uma vez que as tenha provocado, controlá-las com try-except\n",
    "* Mostrar ao utilizado a informação por defeito que proporcione a exceção. Pista: as \n",
    "* Personalizar a mensagem que se lhe proporciona ao utilizador utilizando todo o anterior"
   ]
  },
  {
   "cell_type": "code",
   "execution_count": null,
   "metadata": {},
   "outputs": [],
   "source": [
    "# Completar o exercício aqui\n"
   ]
  }
 ],
 "metadata": {
  "anaconda-cloud": {},
  "kernelspec": {
   "display_name": "Python 3",
   "language": "python",
   "name": "python3"
  },
  "language_info": {
   "codemirror_mode": {
    "name": "ipython",
    "version": 3
   },
   "file_extension": ".py",
   "mimetype": "text/x-python",
   "name": "python",
   "nbconvert_exporter": "python",
   "pygments_lexer": "ipython3",
   "version": "3.8.8"
  }
 },
 "nbformat": 4,
 "nbformat_minor": 1
}
