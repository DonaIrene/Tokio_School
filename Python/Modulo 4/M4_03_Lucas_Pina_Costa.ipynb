{
 "cells": [
  {
   "cell_type": "markdown",
   "metadata": {},
   "source": [
    "# Exercícios Módulo 4. Unidade 3. Erros e Exceções (Soluções)\n",
    "\n",
    "Considerações a ter em conta: \n",
    "\n",
    "* Guardar este documento com o seguinte formato para entrega: __M4_03_nome_apelido1_apelido2__\n",
    "* Fazer os exercícios com as ferramentas vistas nas sessões. \n",
    "* Comentar o código\n",
    "* Utilizar nomes de variáveis apropriados, se vai guardar uma nota, chamar a essa variável nota, não n ou x"
   ]
  },
  {
   "cell_type": "markdown",
   "metadata": {},
   "source": [
    "**1)  Localizar o erro no seguinte bloco de código. Criar uma exceção para evitar que o programa se bloqueie e além disso explica numa mensagem ao utilizador a causa e/ou solução:**"
   ]
  },
  {
   "cell_type": "code",
   "execution_count": 36,
   "metadata": {},
   "outputs": [
    {
     "name": "stdout",
     "output_type": "stream",
     "text": [
      "Nao e possivel divir um numero por 0\n"
     ]
    }
   ],
   "source": [
    "# Completar o exercício aqui\n",
    "try:\n",
    "    resultado = 10/0\n",
    "except ZeroDivisionError:\n",
    "    print(\"Nao e possivel divir um numero por 0\")"
   ]
  },
  {
   "cell_type": "markdown",
   "metadata": {},
   "source": [
    "**2)  Localizar o erro no seguinte bloco de código. Criar uma exceção para evitar que o programa se bloqueie e além disso explica numa mensagem ao utilizador a causa e/ou solução:**"
   ]
  },
  {
   "cell_type": "code",
   "execution_count": 2,
   "metadata": {},
   "outputs": [
    {
     "name": "stdout",
     "output_type": "stream",
     "text": [
      "Lista 'out of range', para acessar o ultimo objeto da lista utilize 'lista[-1]'\n"
     ]
    }
   ],
   "source": [
    "# Completar o exercício aqui\n",
    "lista = [1, 2, 3, 4, 5]\n",
    "try:\n",
    "    lista[10]\n",
    "except IndexError:\n",
    "    print(\"Lista 'out of range', para acessar o ultimo objeto da lista utilize 'lista[-1]'\")"
   ]
  },
  {
   "cell_type": "markdown",
   "metadata": {},
   "source": [
    "**3)  Localizar o erro no seguinte bloco de código. Criar uma exceção para evitar que o programa se bloqueie e além disso explica numa mensagem ao utilizador a causa e/ou solução:**"
   ]
  },
  {
   "cell_type": "code",
   "execution_count": 6,
   "metadata": {},
   "outputs": [
    {
     "name": "stdout",
     "output_type": "stream",
     "text": [
      "Cor nao presente no dicionario, por favor tente outra cor, ou adicione a cor desejada ao dicionario.\n"
     ]
    }
   ],
   "source": [
    "# Completar o exercício aqui\n",
    "cores = { 'vermelho':'red', 'verde':'green', 'preto':'black'  }\n",
    "try:\n",
    "    cores['branco']\n",
    "except KeyError:\n",
    "    print(\"Cor nao presente no dicionario, por favor tente outra cor, ou adicione a cor desejada ao dicionario.\")"
   ]
  },
  {
   "cell_type": "markdown",
   "metadata": {},
   "source": [
    "**4) Localizar o erro no seguinte bloco de código. Criar uma exceção para evitar que o programa se bloqueie e, além disso, explicar numa mensagem ao utilizador a causa e/ou solução:**"
   ]
  },
  {
   "cell_type": "code",
   "execution_count": 7,
   "metadata": {},
   "outputs": [
    {
     "name": "stdout",
     "output_type": "stream",
     "text": [
      "Nao e possivel somar string a inteiro.\n"
     ]
    }
   ],
   "source": [
    "# Completar o exercício aqui\n",
    "try:\n",
    "    resultado = \"20\" + 15\n",
    "except TypeError:\n",
    "    print('Nao e possivel somar string e inteiro.')"
   ]
  },
  {
   "cell_type": "markdown",
   "metadata": {},
   "source": [
    "**5)  Realizar uma função chamada agregar_uma_vez() que receba uma lista e um elemento. A função deve adicionar o elemento ao final da lista com a condição de não repetir nenhum elemento. Além do mais se este elemento já se encontra na lista deve-se invocar um erro de tipo ValueError que deve capturar e mostrar esta mensagem no seu lugar:**\n",
    "\n",
    "```\n",
    "  Erro: Impossível adicionar elementos duplicados => [elemento].\n",
    "```\n",
    "**Teste agregar os elementos 10, -2, “Olá” à lista de elementos com a função uma vez criou e logo mostra o seu conteúdo**\n",
    "\n",
    "*Pista: Pode utilizar a sintaxis: elemento in lista*"
   ]
  },
  {
   "cell_type": "code",
   "execution_count": 37,
   "metadata": {},
   "outputs": [
    {
     "name": "stdout",
     "output_type": "stream",
     "text": [
      "[1, 5, -2, 10, 'ola']\n"
     ]
    }
   ],
   "source": [
    "# Completar o exercício aqui\n",
    "elementos = [1, 5, -2]\n",
    "def agregar_uma_vez(elemento):\n",
    "    \n",
    "    try:\n",
    "        if elemento not in elementos:\n",
    "            elementos.append(elemento)\n",
    "        elif elemento in elementos:\n",
    "            raise IndexError()\n",
    "    except IndexError: f\"Erro: Impossivel adicionar elementos duplicados => {elemento}.\"\n",
    "    \n",
    "agregar_uma_vez(10)\n",
    "agregar_uma_vez(\"ola\")\n",
    "agregar_uma_vez(-2)\n",
    "print(elementos)"
   ]
  },
  {
   "cell_type": "markdown",
   "metadata": {},
   "source": [
    "**6) Pesquisa na documentação outra exceção que não se utilizou até agora e realiza os seguintes passos:**\n",
    "* Provocar o erro num código de exemplo.\n",
    "* Uma vez que as tenha provocado, controlá-las com try-except\n",
    "* Mostrar ao utilizado a informação por defeito que proporcione a exceção. Pista: as \n",
    "* Personalizar a mensagem que se lhe proporciona ao utilizador utilizando todo o anterior"
   ]
  },
  {
   "cell_type": "code",
   "execution_count": 47,
   "metadata": {},
   "outputs": [
    {
     "name": "stdout",
     "output_type": "stream",
     "text": [
      "ValueError\n",
      "Por favor introduza um numero.\n"
     ]
    }
   ],
   "source": [
    "# Completar o exercício aqui\n",
    "def valor_transferencia(valor=None):\n",
    "    try:\n",
    "        if valor==int(valor):\n",
    "            print(f\"Valor a depositar: {valor}€\")\n",
    "    except TypeError:\n",
    "        print(\"Nao se pode transferir string, por favor introduza um numero inteiro\")\n",
    "    except NameError:\n",
    "        print(\"Nao se pode transferir valor desejado, por favor introduza um numero inteiro\")\n",
    "    except IndexError:\n",
    "        print(\"Lista nao tranferivel, por favor introduza um numero inteiro\")\n",
    "    except Exception as e:\n",
    "        print(type(e).__name__)\n",
    "        print(\"Por favor introduza um numero.\")\n",
    "\n",
    "valor_transferencia(\"f\")\n"
   ]
  }
 ],
 "metadata": {
  "anaconda-cloud": {},
  "kernelspec": {
   "display_name": "Python 3",
   "language": "python",
   "name": "python3"
  },
  "language_info": {
   "codemirror_mode": {
    "name": "ipython",
    "version": 3
   },
   "file_extension": ".py",
   "mimetype": "text/x-python",
   "name": "python",
   "nbconvert_exporter": "python",
   "pygments_lexer": "ipython3",
   "version": "3.10.2"
  }
 },
 "nbformat": 4,
 "nbformat_minor": 1
}
