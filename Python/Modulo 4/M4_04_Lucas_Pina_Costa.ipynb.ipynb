{
 "cells": [
  {
   "cell_type": "markdown",
   "metadata": {},
   "source": [
    "# Exercícios Módulo 4. Unidade 4. Dados temporais (Soluções)\n",
    "\n",
    "Considerações a ter em conta:\n",
    "\n",
    "* Guardar este documento com o seguinte formato para entrega: __M4_04_nome_apelido1_apelido2__\n",
    "* Fazer os exercícios com as ferramentas vistas nas sessões. \n",
    "* Comentar o código\n",
    "* Utilizar nomes de variáveis apropriados, se vai guardar uma nota, chamar a essa variável nota, não n ou x"
   ]
  },
  {
   "cell_type": "markdown",
   "metadata": {},
   "source": [
    "**1)  Dadas as duas seguintes datas, que correspondem às datas de nascimento de dois irmãos (na zona horária de Europa/Lisbon), indica qual é a diferença entre eles em dias, horas, minutos e segundos**"
   ]
  },
  {
   "cell_type": "code",
   "execution_count": 33,
   "metadata": {},
   "outputs": [
    {
     "name": "stdout",
     "output_type": "stream",
     "text": [
      "2440 days, 0:35:00\n"
     ]
    }
   ],
   "source": [
    "# Completar o exercício aqui \n",
    "from datetime import datetime\n",
    "import pytz\n",
    "\n",
    "now_utc = datetime.utcnow().replace(tzinfo= pytz.utc)\n",
    "lisboa_tz = pytz.timezone(\"Europe/Lisbon\")\n",
    "lisboa_now = now_utc.astimezone(lisboa_tz)\n",
    "\n",
    "filho1 = datetime(1985, 10, 20, 17, 55)\n",
    "filho2 = datetime(1992, 6, 25, 18, 30)\n",
    "\n",
    "dt = datetime(lisboa_now.year,lisboa_now.month,lisboa_now.day,lisboa_now.hour,lisboa_now.minute)\n",
    "dt_diferencial_f1 = dt - filho1\n",
    "dt_diferencial_f2 = dt - filho2\n",
    "print(dt_diferencial_f1-dt_diferencial_f2)\n",
    "\n",
    "# Completar o exercício aqui"
   ]
  },
  {
   "cell_type": "markdown",
   "metadata": {},
   "source": [
    "**2) Criar uma função que se chame formato_data() que receba por parâmetro uma data do tipo datetime e nos devolva o seguinte formato: “20 de abril de 2020”.**\n",
    "\n",
    "**Em muitas ocasiões os nossos sistemas estão configurados de forma pré-determinada em inglês, e não se pode mudar a localidade para português. Portanto, temos que aprender a selecionar e mostrar os meses em português apesar do nosso sistema se encontrarem inglês ou noutro idioma. Criar uma tupla para armazenar a listagem de meses em português para poder selecionar o nome do mês adequado em função a uma data que lhe proporcionemos ao programa. Fica proibido de utilizar métodos como locale, setlocale ou strftime.**\n",
    "\n",
    "**Experimentar a função enviando-lhe uma data pré-definida por si e a data atual (now)**"
   ]
  },
  {
   "cell_type": "code",
   "execution_count": 12,
   "metadata": {},
   "outputs": [
    {
     "name": "stdout",
     "output_type": "stream",
     "text": [
      "20 April 2020\n"
     ]
    }
   ],
   "source": [
    "# Completar o exercício aqui\n",
    "\n",
    "def formato_data():\n",
    "    data_changer = datetime(2020,4,20)\n",
    "    print(data_changer.strftime(\"%d %B %Y\"))\n",
    "\n",
    "formato_data()"
   ]
  },
  {
   "cell_type": "markdown",
   "metadata": {},
   "source": [
    "**3) Utilizando strftime e formatea a data atual para que saia com o seguinte formato (sem os pontos):**\n",
    "* Dia: 20\n",
    "* Mês: 04\n",
    "* Ano: 2020\n",
    "* Hora: 16\n",
    "* Minutos: 19\n",
    "* Segundos (e milissegundos): 08.879057"
   ]
  },
  {
   "cell_type": "code",
   "execution_count": 17,
   "metadata": {
    "scrolled": true
   },
   "outputs": [
    {
     "name": "stdout",
     "output_type": "stream",
     "text": [
      "Dia:12\n",
      "Mes: 3\n",
      "Ano: 2022\n",
      "Hora: 23\n",
      "Minuto:4\n",
      "Segundos (e milisegundos):1.146017\n"
     ]
    }
   ],
   "source": [
    "# Completar o exercício aqui\n",
    "hora_atual = datetime.now()\n",
    "print(f\"\"\"Dia:{hora_atual.day}\n",
    "Mes: {hora_atual.month}\n",
    "Ano: {hora_atual.year}\n",
    "Hora: {hora_atual.hour}\n",
    "Minuto:{hora_atual.minute}\n",
    "Segundos (e milisegundos):{hora_atual.second}.{hora_atual.microsecond}\"\"\")"
   ]
  }
 ],
 "metadata": {
  "anaconda-cloud": {},
  "kernelspec": {
   "display_name": "Python 3",
   "language": "python",
   "name": "python3"
  },
  "language_info": {
   "codemirror_mode": {
    "name": "ipython",
    "version": 3
   },
   "file_extension": ".py",
   "mimetype": "text/x-python",
   "name": "python",
   "nbconvert_exporter": "python",
   "pygments_lexer": "ipython3",
   "version": "3.10.2"
  }
 },
 "nbformat": 4,
 "nbformat_minor": 1
}
