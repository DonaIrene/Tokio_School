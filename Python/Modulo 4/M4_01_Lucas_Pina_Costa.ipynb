{
 "cells": [
  {
   "cell_type": "markdown",
   "metadata": {},
   "source": [
    "# Exercícios Módulo 4. Unidade 1. Outras ferramentas de POO (Soluções)\n",
    "\n",
    "Considerações a ter em conta:\n",
    "\n",
    "- Guardar este documento com o seguinte formato para entrega: __M4_01_nome_apelido1_apelido2__\n",
    "- Fazer os exercícios com as ferramentas vistas nas sessões. \n",
    "- Comentar o código\n",
    "- Utilizar nomes de variáveis apropriados, se vai guardar uma nota, chamar a essa variável nota, não n ou x"
   ]
  },
  {
   "cell_type": "markdown",
   "metadata": {},
   "source": [
    "**1) Exercício de herança múltipla e polimorfismo**\n",
    "* Criar a classe Veículos com um construtor que inclua marca e modelo\n",
    "* Esta classe Veículos também terá de incluir um método que se chame reabastecer() o qual imprime por ecrã “Este veículo tem de reabastecer gasolina”\n",
    "* Criar a classe VElétricos com um construtor que inclua marca, modelo e autonomia\n",
    "* Esta classe VElétricos também terá de incluir um método que se chame repostar() o qual imprime por ecrã “Este veículo tem de reabastecer eletricidade”\n",
    "* Criar a classe BicicletaElétrica que herde de Veículos e de VElétricos, mas dando prioridade a VElétricos (já que é um veículo mais elétrico que normal)\n",
    "* Criar a classe Quad que herde de Veículos e de VElétricos, mas dando prioridade a Veículos (já que apenas usa a eletricidade de modo pontual)\n",
    "* Criar um objeto de BicicletaElétrica e outro de Quad\n",
    "* Empregar as técnicas de polimorfismo aprendidas para conseguir que ao perguntar-lhe aos objetos que acabamos de criar por reabastecimento, ambos nos respondam adequadamente\n"
   ]
  },
  {
   "cell_type": "code",
   "execution_count": null,
   "metadata": {},
   "outputs": [],
   "source": [
    "# Completar o exercício aqui"
   ]
  },
  {
   "cell_type": "markdown",
   "metadata": {},
   "source": [
    "**2) Exercício de herança**\n",
    "* Criar a superclasse Pessoal_Universitário com um único atributo que seja um dicionário que inclua: “id”, “nome” e “email” \n",
    "* Criar as classes Oficina, Professor e Aluno. Todas herdaram de Pessoal_Universitário e os seus dados\n",
    "* No caso de Oficina, deve adicionar ao seu dicionário de dados o dado “Posto”\n",
    "* No caso de Professor, deve adicionar ao seu dicionário de dados o dado “Especialização”\n",
    "* No caso de Aluno, deve adicionar ao seu dicionário de dados o dado “CréditosAprovados\" (integer)  \n",
    "* Criar métodos que sirvam para mostrar a informação de cada classe\n",
    "* Criar objetos de todas as classes\n",
    "* Mostrar a informação desses objetos e comprovar que sai o que tem de sair"
   ]
  },
  {
   "cell_type": "code",
   "execution_count": null,
   "metadata": {},
   "outputs": [],
   "source": [
    "# Completar o exercício aqui"
   ]
  },
  {
   "cell_type": "markdown",
   "metadata": {},
   "source": [
    "**3)  Escolher a temática que preferir e definir uma estrutura de classes e subclasses onde pratique a herança em pelo menos dois níveis (herança multinível). Criar uma estrutura de mínimo 5 classes, com os seus respetivos construtores e métodos. Criar alguns objetos e comprovar que a herança esteja a funcionar. Se puder incluir alguma técnica de polimorfismo.**"
   ]
  },
  {
   "cell_type": "code",
   "execution_count": null,
   "metadata": {},
   "outputs": [],
   "source": [
    "# Completar o exercício aqui"
   ]
  }
 ],
 "metadata": {
  "anaconda-cloud": {},
  "kernelspec": {
   "display_name": "Python 3",
   "language": "python",
   "name": "python3"
  },
  "language_info": {
   "codemirror_mode": {
    "name": "ipython",
    "version": 3
   },
   "file_extension": ".py",
   "mimetype": "text/x-python",
   "name": "python",
   "nbconvert_exporter": "python",
   "pygments_lexer": "ipython3",
   "version": "3.8.8"
  }
 },
 "nbformat": 4,
 "nbformat_minor": 1
}
