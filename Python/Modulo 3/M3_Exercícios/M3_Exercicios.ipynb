{
 "cells": [
  {
   "cell_type": "markdown",
   "metadata": {},
   "source": [
    "# Exercícios Módulo 3. Classes e objetos (Soluções)\n",
    "\n",
    "Considerações a ter em conta:\n",
    "\n",
    "* Guardar este documento com o seguinte formato para entrega: M3_nome_apelido1_apelido2\n",
    "* Fazer os exercícios com as ferramentas vistas nas sessões. \n",
    "* Comentar o código\n",
    "* Utilizar nomes de variáveis apropriados, se vai guardar uma nota, chamar a essa variável nota, não n ou x"
   ]
  },
  {
   "cell_type": "markdown",
   "metadata": {},
   "source": [
    "# Exercício 1"
   ]
  },
  {
   "cell_type": "markdown",
   "metadata": {},
   "source": [
    "#### Criação\n",
    "\n",
    "* Criar uma classe chamada Aluno que tenha los atributos nome e nota\n",
    "* Criar o construtor da classe. Adicionar um print no construtor para informar que o aluno foi criado com sucesso\n",
    "* Sobrescreve o método string ( __str__ ), para que ao imprimir por ecrã se veja a sua informação\n",
    "* Criar um método chamado qualificação que imprima por ecrã se o aluno passou ou reprovou com base na sua nota\n",
    "\n",
    "#### Experiência\n",
    "\n",
    "* Criar alguns alunos\n",
    "* Tentar mostrar os objetos do aluno e o método de qualificação"
   ]
  },
  {
   "cell_type": "code",
   "execution_count": 1,
   "metadata": {},
   "outputs": [],
   "source": [
    "# Fazer o exercício aqui\n",
    "\n",
    "class Aluno:\n",
    "    "
   ]
  },
  {
   "cell_type": "markdown",
   "metadata": {},
   "source": [
    "# Exercício 2"
   ]
  },
  {
   "cell_type": "markdown",
   "metadata": {},
   "source": [
    "#### Criação\n",
    "\n",
    "Fazer a seguinte modificação ao exercício anterior.\n",
    "\n",
    "Se no exercício fizermos um print( aluno1. nota) isso irá devolver a nota do aluno. Pode tornar-se um problema de segurança, vamos encapsular o código para que não possamos aceder diretamente às variáveis, e o acesso tem de ser através de métodos\n",
    "* Fazer as variáveis de classe __privadas__. Lembrete: adicionar hífen duplo antes do nome da variável \n",
    "* Criar métodos __getter e setter__ poder aceder e modificar as variáveis de classe\n",
    "\n",
    "#### Experiência\n",
    "\n",
    "* Criar alguns alunos\n",
    "* Verificar que só podemos aceder às variáveis da classe através dos seus métodos. get e set"
   ]
  },
  {
   "cell_type": "code",
   "execution_count": 2,
   "metadata": {},
   "outputs": [],
   "source": [
    "# Realizaro exercício aqui"
   ]
  },
  {
   "cell_type": "markdown",
   "metadata": {},
   "source": [
    "# Exercício 3"
   ]
  },
  {
   "cell_type": "markdown",
   "metadata": {},
   "source": [
    "#### Criação\n",
    "\n",
    "* Criar uma classe chamada __Produto__ que tenha los atributos código, nome, preço e tipo.\n",
    "* Criar o __construtor__ da classe. Adicionar um print no construtor para informar que o produto foi criado com sucesso \n",
    "* Criar métodos __getter e setter__ para aceder e modificar todos os atributos da classe\n",
    "\n",
    "\n",
    "#### Experiência\n",
    "\n",
    "* Criar alguns produtos\n",
    "* Experimentar estes novos métodos que foram desenvolvidos (getter e setter)"
   ]
  },
  {
   "cell_type": "code",
   "execution_count": 3,
   "metadata": {},
   "outputs": [],
   "source": [
    "# Realizar o exercício aqui"
   ]
  },
  {
   "cell_type": "markdown",
   "metadata": {},
   "source": [
    "# Exercício 4"
   ]
  },
  {
   "cell_type": "markdown",
   "metadata": {},
   "source": [
    "#### Criação\n",
    "\n",
    "Ampliar o exercício anterior:\n",
    "copiar todo o código que já possui e adicionar o seguinte:\n",
    "\n",
    "* Subscrever o método **string (``__str__``)**, para que ao imprimir um produto por ecrã e exibir todos os dados desse produto.\n",
    "\n",
    "* Criar um método chamado __calcular_total__ que recebe um número de unidades para esse produto, e com base nisso calcular o preço total para esse conjunto de produtos. Exemplo: 5 unidades do produto 1\n",
    "\n",
    "\n",
    "#### Experiência\n",
    "\n",
    "* Experimentar estes novos métodos que foram desenvolvidos"
   ]
  },
  {
   "cell_type": "code",
   "execution_count": 4,
   "metadata": {},
   "outputs": [],
   "source": [
    "# Realizar o exercício aqui"
   ]
  },
  {
   "cell_type": "markdown",
   "metadata": {},
   "source": [
    "# Exercício 5"
   ]
  },
  {
   "cell_type": "markdown",
   "metadata": {},
   "source": [
    "#### Criação\n",
    "\n",
    "Continuemos a expandir-nos em relação ao exercício anterior:\n",
    "copiar todo o código que já possui e adicionar o seguinte:\n",
    "\n",
    "* Criar uma classe chamada Pedido com os atributos: uma lista de produtos e uma lista de quantidades\n",
    "* Criar o construtor da classe. Adicionar ao construtor um print para informar que a encomenda foi criada com sucesso \n",
    "* Criar o método total_pedido que devolve o montante total de um pedido\n",
    "* Criar o método mostrar_pedido o que mostra todos os produtos e quantidades que compõem o pedido\n",
    "\n",
    "#### Experiência\n",
    "\n",
    "* Criar alguns pedidos\n",
    "* Experimentar estes novos métodos que foram desenvolvidos"
   ]
  },
  {
   "cell_type": "code",
   "execution_count": 5,
   "metadata": {},
   "outputs": [],
   "source": [
    "# Fazer o exercício aqui"
   ]
  },
  {
   "cell_type": "markdown",
   "metadata": {},
   "source": [
    "# Exercício 6"
   ]
  },
  {
   "cell_type": "markdown",
   "metadata": {},
   "source": [
    "**Exercício sobre pontos, coordenadas e vetores no plano cartesiano. A seguir os conceitos básicos.**\n",
    "\n",
    "### O plano cartesiano\n",
    "\n",
    "Representa um espaço bidimensional (em 2 dimensões), formado por duas linhas perpendiculares, uma horizontal e outra vertical, que se intersetam num ponto. A linha horizontal é chamada eixo das abcissas ou __eixo X__, enquanto a vertical é chamada eixo das ordenadas ou simplesmente o __eixo Y__.\n",
    "Quanto ao ponto de interseção, é conhecido como o ponto de origem O. __O plano está dividido em 4 quadrantes.__\n",
    "\n",
    "\n",
    "<img src=\"./Eixos.png\"  />\n",
    "\n",
    "\n",
    "\n",
    "### Pontos e coordenadas\n",
    "\n",
    "O objetivo de tudo isto é descrever a posição dos **pontos** no plano sob a forma de **coordenadas**, que são formadas associando o valor do eixo X (horizontal) com o valor do eixo Y (vertical).\n",
    "\n",
    "\n",
    "A representação de um ponto é simples: **P(X,Y)** onde X e Y são a distância horizontal (esquerda ou direita) e vertical (para cima ou para baixo) \n",
    "respetivamente, usando como referência o ponto de origem (0,0), mesmo no centro do plano.\n",
    "\n",
    "<img src=\"./Pontos.png\"  />\n",
    "\n",
    "\n",
    "### Vetores no plano\n",
    "\n",
    "Finalmente, um vetor no plano refere-se a um segmento orientado, gerado a partir de dois pontos diferentes.\n",
    "\n",
    "Para efeitos práticos, é simplesmente uma linha formada a partir de um ponto inicial na direção de outro ponto final, pelo que se entende que um vetor tem comprimento e direção/sentido.\n",
    "\n",
    "<img src=\"./Vetor.png\"  />\n",
    "\n",
    "\n",
    "Nesta figura, podemos ver dois pontos A e B que poderíamos definir como se segue:\n",
    "* **A(x1, y1)** => **A(2, 3)**\n",
    "* **B(x2, y2)** => **B(7, 5)**\n",
    "\n",
    "E o vetor seria representado como a diferença entre as coordenadas do segundo ponto em relação ao primeiro (o segundo menos o primeiro):\n",
    "* **AB = (x2-x1, y2-y1)** => **(7-2, 5-3)** => **(5,2)** \n",
    "\n",
    "O que, no final, é tudo o que é:\n",
    "\n",
    "5 à direita e 2 no topo."
   ]
  },
  {
   "cell_type": "markdown",
   "metadata": {},
   "source": [
    "#### Criação\n",
    "\n",
    "* Criar uma classe chamada **Ponto** com as suas duas coordenadas X e Y.\n",
    "* Adicionar um método **construtor** para criar pontos facilmente. Se não forem recebidas quaisquer coordenadas, o seu valor será zero.\n",
    "* Sobrescrever o método **string** (``__str__``), para exibir um ponto no formato (X,Y) ao imprimir no ecrã.\n",
    "* Adicionar um método chamado quadrante para indicar a que quadrante pertence o ponto, ou se é a sua origem. \n",
    "* Adicionar um método chamado vetor, que toma outro ponto e calcula o vetor resultante entre os dois pontos.\n",
    "* Adicionar um método chamado distância, que toma outro ponto e calcula a distância entre os dois pontos e mostra-o no ecrã. A fórmula é a seguinte:\n",
    "\n",
    "<img src=\"./Distância.png\"  />\n",
    "<img src=\"./Distancia_formula.png\"  />\n",
    "\n",
    "*Nota: a função raiz quadrada sqrt() de Python deve ser importada do módulo de matemática e utilizada da seguinte forma:*\n",
    "```python\n",
    "import math\n",
    "math.sqrt(9)\n",
    "> 3.0\n",
    "```\n",
    "\n",
    "* Criar uma classe chamada **Retângulo** com dois pontos (início e fim) que irá formar a diagonal do retângulo.\n",
    "* Adicionar um método **construtor** para criar ambos os pontos facilmente, se não for enviado dois pontos serão criados na origem por defeito. \n",
    "* Acrescentar ao retângulo um método chamado **base** que exibe a base.\n",
    "* Acrescentar ao retângulo um método chamado **altura** que exibe a altura. \n",
    "* Acrescentar ao retângulo um método chamado **área** que exibe a área\n",
    "\n",
    "\n",
    "*Pode facilmente identificar estes valores se tentar desenhar o quadrado a partir da sua diagonal. Se estiver perdido, tente desenhá-lo num pedaço de papel, vai vê-lo muito mais claramente! Lembre-se também que pode usar a função **abs()** para encontrar o valor absoluto de um número.*\n",
    "\n",
    "#### Experiência\n",
    "* Criar os pontos A(2, 3), B(5,5), C(-3, -1) e D(0,0) e imprimi-los no ecrã. \n",
    "* Consultar a que quadrantes pertencem os pontos A, C e D.\n",
    "* Consultar os vetores AB y BA.\n",
    "* Consultar a distância entre os pontos 'A e B' e 'B e A'.\n",
    "* Determinar qual dos 3 pontos A, B ou C está mais afastado da origem, ponto (0,0). \n",
    "* Criar um retângulo utilizando os pontos A e B.\n",
    "* Consultar a base, altura e área do retângulo."
   ]
  },
  {
   "cell_type": "code",
   "execution_count": 6,
   "metadata": {},
   "outputs": [],
   "source": [
    "# Fazer o exercício aqui"
   ]
  },
  {
   "cell_type": "markdown",
   "metadata": {},
   "source": [
    "# Exercício 7"
   ]
  },
  {
   "cell_type": "markdown",
   "metadata": {},
   "source": [
    "#### Criação\n",
    "\n",
    "Trabalhar com herança\n",
    "\n",
    "* Criar uma classe chamada **Veículo** que tem os atributos: cor e rodas \n",
    "* Criar o **construtor** da classe.\n",
    "* Sobrescrever o método **string (``__str__``)**, para que ao imprimir por ecrã sum veículo vejamos a sua informação\n",
    "* Criar uma classe chamada **Carro que herda do Veículo**\n",
    "* Criar o **construtor** da classe, que inclui tudo desde o construtor do veículo mais velocidade e deslocamento.\n",
    "* Sobrescrever o método **string (``__str__``)**, para que ao imprimir por ecrã sum automóvel vejamos a sua informação\n",
    "\n",
    "<img src=\"./Herança1.png\"  />\n",
    "\n",
    "#### Experiência\n",
    "\n",
    "* Criar alguns carros e exibir a sua informação"
   ]
  },
  {
   "cell_type": "code",
   "execution_count": 7,
   "metadata": {},
   "outputs": [],
   "source": [
    "# Fazer o exercício aqui"
   ]
  },
  {
   "cell_type": "markdown",
   "metadata": {},
   "source": [
    "# Exercício 8"
   ]
  },
  {
   "cell_type": "markdown",
   "metadata": {},
   "source": [
    "#### Criação\n",
    "\n",
    "Trabalhar com herança. Continuemos a expandir-nos em relação ao exercício anterior. Copiar todo o código que já possui e adicionar o seguinte:\n",
    "\n",
    "* Criar as **classes herdadas** de Veículos mostradas na imagem \n",
    "* Criar os **construtores** para essas classes.es.\n",
    "* Sobrescrever o método **string (``__str__``)**, para que ao imprimir por ecrã se veja a informação correspondente\n",
    "* Criar uma lista e dentro dela introduzir **pelo menos um objeto de cada subclasse de Veículo**.\n",
    "* Fazer uma função chamada **catalogar()** que recebe a lista de veículos e percorre-os mostrando o seu nome de classe e atributos. \n",
    "* Modificar a função de **catalogar()** para receber um argumento opcional de rodas, fazendo com que este apresente apenas aquelas cujo número de rodas corresponda ao valor do argumento. Deve também exibir uma mensagem \"Encontrados {} veículos com {} rodas:\" apenas se o argumento das rodas for enviado. Teste-o com 0, 2 e 4 rodas como o valor.\n",
    "\n",
    "Pista: Descobrir para que serve esta instrução e se será útil para si. \n",
    "**``type(objeto).__name__``**\n",
    "\n",
    "<img src=\"./Herança2.png\"  />\n",
    "\n",
    "#### Experiência\n",
    "\n",
    "* Criar alguns carros e exibir a sua informação"
   ]
  },
  {
   "cell_type": "code",
   "execution_count": 8,
   "metadata": {},
   "outputs": [],
   "source": [
    "# Fazer o exercício aqui"
   ]
  },
  {
   "cell_type": "markdown",
   "metadata": {},
   "source": [
    "# Exercício 9"
   ]
  },
  {
   "cell_type": "markdown",
   "metadata": {},
   "source": [
    "#### Criação\n",
    "\n",
    "Trabalhar com herança. Continuemos a expandir-nos em relação ao exercício anterior. Copiar todo o código que já possui e adicionar o seguinte:\n",
    "\n",
    "* Um método chamado **filtro** que recebe 2 parâmetros, a lista de veículos e o nome de um dos tipos de veículos, a fim de filtrar na lista, ou seja, **Carro, Camião**, etc. O método deve atravessar a lista, encontrar os fósforos e armazená-los numa nova lista.nova lista. Esta nova lista deve ser devolvida ao programa principal onde será atravessada e o seu conteúdo exibido. A chamada no programa principal deve ter este aspeto: **``listaCarros = filtrar(lista, “Carro”)``**\n",
    "\n",
    "#### Experiência\n",
    "\n",
    "* Cria alguns veículos (mais do que um por tipo)\n",
    "* Filtrar por diferentes tipos de veículos e mostrar os resultados devolvidos."
   ]
  },
  {
   "cell_type": "code",
   "execution_count": 9,
   "metadata": {},
   "outputs": [],
   "source": [
    "# Fazer o exercício aqui"
   ]
  }
 ],
 "metadata": {
  "anaconda-cloud": {},
  "kernelspec": {
   "display_name": "Python 3",
   "language": "python",
   "name": "python3"
  },
  "language_info": {
   "codemirror_mode": {
    "name": "ipython",
    "version": 3
   },
   "file_extension": ".py",
   "mimetype": "text/x-python",
   "name": "python",
   "nbconvert_exporter": "python",
   "pygments_lexer": "ipython3",
   "version": "3.8.8"
  }
 },
 "nbformat": 4,
 "nbformat_minor": 1
}
