{
 "cells": [
  {
   "cell_type": "markdown",
   "metadata": {},
   "source": [
    "# Exercícios Módulo 2. Entrada e saída de dados (Soluções)\n",
    "\n",
    "Considerações a ter em conta:\n",
    "\n",
    "* Guardar este documento com o seguinte formato para entrega: __M2_04_nome_apelido1_apelido2__\n",
    "* Fazer os exercícios com as ferramentas vistas nas sessões. Ainda não chegámos às condicionais nem ciclos \n",
    "* Comentar o código\n",
    "* Utilizar nomes de variáveis apropriados, se vai guardar uma nota, chamar a essa variável nota, não n ou x"
   ]
  },
  {
   "cell_type": "markdown",
   "metadata": {},
   "source": [
    "**1) Utilizar o método input() para fazer as seguintes tarefas:**\n",
    "\n",
    "* Pedir um número por teclado, mostrar o resultado e o tipo (para saber em que tipo de dado captura a informação input()) \n",
    "* Pedir um número por teclado e assegurar que capturamos a informação em formato int\n",
    "* Pedir um número por teclado e assegurar-se de que capturamos a informação en formato float"
   ]
  },
  {
   "cell_type": "code",
   "execution_count": 15,
   "metadata": {},
   "outputs": [
    {
     "name": "stdout",
     "output_type": "stream",
     "text": [
      "<class 'str'> 123\n",
      "<class 'int'> 12345\n",
      "<class 'float'> 12.34\n"
     ]
    }
   ],
   "source": [
    "# Completar o exercício aqui\n",
    "primeiro_in = input('Introduza um input:')\n",
    "print(type(primeiro_in),primeiro_in)\n",
    "\n",
    "primeiro_int = int(input('Introduza um numero:'))\n",
    "print(type(primeiro_int),primeiro_int)\n",
    "\n",
    "primeiro_float = float(input('Entre um float:'))\n",
    "print (type(primeiro_float),primeiro_float)"
   ]
  },
  {
   "cell_type": "markdown",
   "metadata": {},
   "source": [
    "**2) Formatar os seguintes valores para mostrar o resultado indicado:**\n",
    "\n",
    "* “Olá Mundo” → Alinhado à direita em 20 caracteres\n",
    "* “Olá Mundo” → Truncagem no quarto carácter (índice 3)\n",
    "* “Olá Mundo” → Alinhamento ao centro em 20 caracteres com truncagem no segundo carácter (índice 1) \n",
    "* 150 → Formatar a 5 números inteiros preenchidos com zeros\n",
    "* 7887 → Formatar a 7 números inteiros preenchidos com espaços\n",
    "* 20.02 → Formatar a 3 números inteiros e 3 números decimais"
   ]
  },
  {
   "cell_type": "code",
   "execution_count": 8,
   "metadata": {},
   "outputs": [
    {
     "name": "stdout",
     "output_type": "stream",
     "text": [
      "           Ola Mundo\n",
      "Ola\n",
      "        Ola         \n",
      "00150\n",
      "   7887\n",
      "20.020\n"
     ]
    }
   ],
   "source": [
    "# Completar o exercício aqui\n",
    "texto = \"Ola Mundo\"\n",
    "\n",
    "\n",
    "print(\"{:>20}\".format(texto))\n",
    "print(\"{:.3}\".format(texto))\n",
    "print(\"{:^20.3}\".format(texto))\n",
    "print(\"{:05d}\".format(150))\n",
    "print(\"{: 7d}\".format(7887))\n",
    "print(\"{:03.3f}\".format(20.02))\n"
   ]
  },
  {
   "cell_type": "code",
   "execution_count": null,
   "metadata": {},
   "outputs": [],
   "source": []
  }
 ],
 "metadata": {
  "anaconda-cloud": {},
  "kernelspec": {
   "display_name": "Python 3",
   "language": "python",
   "name": "python3"
  },
  "language_info": {
   "codemirror_mode": {
    "name": "ipython",
    "version": 3
   },
   "file_extension": ".py",
   "mimetype": "text/x-python",
   "name": "python",
   "nbconvert_exporter": "python",
   "pygments_lexer": "ipython3",
   "version": "3.9.7"
  }
 },
 "nbformat": 4,
 "nbformat_minor": 1
}
